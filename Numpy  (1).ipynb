{
 "cells": [
  {
   "cell_type": "markdown",
   "id": "49dde3de-15a4-4ea3-8b6f-3b72bf9058fe",
   "metadata": {},
   "source": [
    "# Numpy"
   ]
  },
  {
   "cell_type": "markdown",
   "id": "e15a7664-d183-427d-80c1-ea6e7df25599",
   "metadata": {},
   "source": [
    "- used for n dimensional array\n",
    "- It provides support for large, multi-dimensional arrays and matrices"
   ]
  },
  {
   "cell_type": "markdown",
   "id": "b9c42a18-5c2f-41a7-a276-cd7d175d2afc",
   "metadata": {},
   "source": [
    "## About Numpy"
   ]
  },
  {
   "cell_type": "markdown",
   "id": "ee8e60d8-0fc8-4eb0-8da2-e0f1fff9fdfa",
   "metadata": {},
   "source": [
    "- NumPy (Numerical Python) is a powerful open-source library for numerical and scientific computing in Python.\n",
    "-  It’s widely used in data science, machine learning, deep learning, and engineering\n",
    "-  it provides tools to handle large multi-dimensional arrays and matrices, along with a rich collection of mathematical functions."
   ]
  },
  {
   "cell_type": "markdown",
   "id": "f1eca57a-abd9-4db8-9d15-7cc872343513",
   "metadata": {},
   "source": [
    "# Why Numpy"
   ]
  },
  {
   "cell_type": "markdown",
   "id": "3439fbaf-e715-48a9-afd6-81bcac99f4a5",
   "metadata": {},
   "source": [
    "NumPy is a fundamental package for numerical computing in Python, and it is widely used in fields like data science, machine learning, scientific computing, and more. Here are some key reasons why NumPy is so popular:\n",
    "\n",
    "1. Efficient Multidimensional Array Operations\n",
    "2. Convenience and Flexibility\n",
    "3. Mathematical and Statistical Operations\n",
    "4. Compatibility with Other Libraries\n",
    "5. Widely Used in Machine Learning and Data Science\n",
    "\n",
    "NumPy is widely adopted for its:\n",
    "\n",
    "- Speed and memory efficiency for large data sets,\n",
    "- Ease of use for array manipulation and numerical computations,\n",
    "- Rich functionality for mathematical operations, random number generation, and linear algebra,\n",
    "- Seamless integration with other Python libraries."
   ]
  },
  {
   "cell_type": "markdown",
   "id": "23513dfc-27e0-4355-994d-ac46c0240645",
   "metadata": {},
   "source": [
    "# History Numpy:"
   ]
  },
  {
   "cell_type": "markdown",
   "id": "0b7de36d-1ff8-47ac-b581-77df2751c9fe",
   "metadata": {},
   "source": [
    "- NumPy is an open source project that enables numerical computing with Python.\n",
    "- It was created in 2005 building on the early work of the Numeric and Numarray libraries.\n",
    "- NumPy will always be 100% open source software and free for all to use.\n",
    "-  It is released under the liberal terms of the modified BSD license."
   ]
  },
  {
   "cell_type": "markdown",
   "id": "53b9cc0f-5e23-4c2a-80e9-9a7f95529d95",
   "metadata": {},
   "source": [
    "- Creation:\n",
    "   Travis Oliphant created NumPy in 2005. \n",
    " \n",
    "- Building blocks:\n",
    "\n",
    "   NumPy was built on the work of the Numeric and Numarray libraries. Numeric was the first to provide numerical methods for Python, and Numarray was an improved re-implementation of Numeric. \n",
    " \n",
    "- Unification:\n",
    "\n",
    "   Oliphant wanted to unify the community around a single array package, so he ported Numarray's features to Numeric and released NumPy 1.0 in 2006. \n",
    " \n",
    "- Open source:\n",
    "\n",
    "  NumPy is an open source project that's free to use. It's developed on GitHub through the consensus of the NumPy community. \n",
    " \n",
    "- Use cases: \n",
    "   NumPy is used by scientists, engineers, and other professionals around the world. For example, it's used in scripts that analyze gravitational waves and in the M87 black hole imaging project"
   ]
  },
  {
   "cell_type": "markdown",
   "id": "23757c98-394c-4a21-b0e6-f863f0156896",
   "metadata": {},
   "source": [
    "# Advantages:"
   ]
  },
  {
   "cell_type": "markdown",
   "id": "ef71bf78-8f7f-4de4-8fcd-d53ace7c27f0",
   "metadata": {},
   "source": [
    "- Memory and storage : NumPy uses less memory and storage space than regular Python lists.\n",
    "- Speed : NumPy is faster than regular Python lists and performs well on large datasets.\n",
    "- Multi-dimensional arrays : NumPy can be used as a container for multi-dimensional arrays of generic data.\n",
    "- Data manipulation : NumPy allows you to manipulate, transpose, and reshape data in matrices.\n",
    "- Integration : NumPy can integrate with a variety of databases because it allows you to define arbitrary data types."
   ]
  },
  {
   "cell_type": "code",
   "execution_count": 12,
   "id": "2e6c7bb3-e0ab-4fe8-a330-93b3ac50c569",
   "metadata": {},
   "outputs": [
    {
     "name": "stdout",
     "output_type": "stream",
     "text": [
      "Requirement already satisfied: numpy in c:\\users\\yes\\anaconda3\\lib\\site-packages (1.26.4)\n"
     ]
    }
   ],
   "source": [
    "!pip install numpy"
   ]
  },
  {
   "cell_type": "code",
   "execution_count": 13,
   "id": "a97f33d9-ca38-410d-881d-3202b8862688",
   "metadata": {},
   "outputs": [],
   "source": [
    "import numpy as np"
   ]
  },
  {
   "cell_type": "markdown",
   "id": "bf78ed39-5018-4fc9-99dc-502a6fd63af1",
   "metadata": {},
   "source": [
    "# Creating a array"
   ]
  },
  {
   "cell_type": "code",
   "execution_count": 15,
   "id": "bd20fbea-0268-4264-8553-7a441324ee59",
   "metadata": {},
   "outputs": [
    {
     "name": "stdout",
     "output_type": "stream",
     "text": [
      "[1 2 3]\n"
     ]
    }
   ],
   "source": [
    "a=np.array([1,2,3])\n",
    "print(a)"
   ]
  },
  {
   "cell_type": "code",
   "execution_count": 16,
   "id": "c5db6a89-e8cf-4a72-a114-acba27a1a817",
   "metadata": {},
   "outputs": [
    {
     "name": "stdout",
     "output_type": "stream",
     "text": [
      "[[1 2 3]\n",
      " [4 5 6]]\n"
     ]
    }
   ],
   "source": [
    "b=np.array([[1,2,3],[4,5,6]])\n",
    "print(b)"
   ]
  },
  {
   "cell_type": "code",
   "execution_count": 17,
   "id": "08d6c553-33f0-4ace-964f-fdf8aaba2fe7",
   "metadata": {},
   "outputs": [
    {
     "name": "stdout",
     "output_type": "stream",
     "text": [
      "[[[1 2 3]\n",
      "  [4 5 6]\n",
      "  [7 8 9]]]\n"
     ]
    }
   ],
   "source": [
    "c=np.array([[[1,2,3],[4,5,6],[7,8,9]]])\n",
    "print(c)"
   ]
  },
  {
   "cell_type": "code",
   "execution_count": 18,
   "id": "23cb4123-07d6-4c78-b5d3-cdb27c299848",
   "metadata": {},
   "outputs": [
    {
     "name": "stdout",
     "output_type": "stream",
     "text": [
      "[[[[1 2 3]\n",
      "   [4 5 6]\n",
      "   [7 8 9]\n",
      "   [1 2 3]]]]\n"
     ]
    }
   ],
   "source": [
    "import numpy as np \n",
    "c=np.array([[[[1,2,3],[4,5,6],[7,8,9],[1,2,3]]]])\n",
    "print(c)"
   ]
  },
  {
   "cell_type": "code",
   "execution_count": 19,
   "id": "ae2cbd05-df18-44e3-84c4-aa1e01e56f7f",
   "metadata": {},
   "outputs": [
    {
     "name": "stdout",
     "output_type": "stream",
     "text": [
      "[[[[[1 2 3]\n",
      "    [4 5 6]\n",
      "    [7 8 9]\n",
      "    [1 2 3]\n",
      "    [1 2 3]]]]]\n"
     ]
    }
   ],
   "source": [
    "c=np.array([[[[[1,2,3],[4,5,6],[7,8,9],[1,2,3],[1,2,3]]]]])\n",
    "print(c)"
   ]
  },
  {
   "cell_type": "code",
   "execution_count": 20,
   "id": "15463039-cf78-434b-afcd-7799ebfccbd5",
   "metadata": {},
   "outputs": [
    {
     "name": "stdout",
     "output_type": "stream",
     "text": [
      "[[[[[[ 1  2  3]\n",
      "     [ 4  5  6]\n",
      "     [ 7  8  9]\n",
      "     [ 1  2  3]\n",
      "     [ 1  2  3]\n",
      "     [12 34 21]]]]]]\n"
     ]
    }
   ],
   "source": [
    "c=np.array([[[[[[1,2,3],[4,5,6],[7,8,9],[1,2,3],[1,2,3],[12,34,21]]]]]])\n",
    "print(c)"
   ]
  },
  {
   "cell_type": "markdown",
   "id": "3ea7c6a2-80d5-46f6-b040-6365d1995e74",
   "metadata": {},
   "source": [
    "# Initial Placeholder:"
   ]
  },
  {
   "cell_type": "markdown",
   "id": "1dc6b483-2996-4c63-8463-6d95c105f4f0",
   "metadata": {},
   "source": [
    "1. Zeros():"
   ]
  },
  {
   "cell_type": "markdown",
   "id": "c707bd87-450f-4f1a-9cf4-0da79137d3a2",
   "metadata": {},
   "source": [
    "- Two create an entire array with zeros "
   ]
  },
  {
   "cell_type": "code",
   "execution_count": 24,
   "id": "09a3ed74-3a96-48e1-9a89-88d2f79536ed",
   "metadata": {},
   "outputs": [
    {
     "name": "stdout",
     "output_type": "stream",
     "text": [
      "[[[0. 0. 0. 0. 0.]\n",
      "  [0. 0. 0. 0. 0.]\n",
      "  [0. 0. 0. 0. 0.]\n",
      "  [0. 0. 0. 0. 0.]]\n",
      "\n",
      " [[0. 0. 0. 0. 0.]\n",
      "  [0. 0. 0. 0. 0.]\n",
      "  [0. 0. 0. 0. 0.]\n",
      "  [0. 0. 0. 0. 0.]]\n",
      "\n",
      " [[0. 0. 0. 0. 0.]\n",
      "  [0. 0. 0. 0. 0.]\n",
      "  [0. 0. 0. 0. 0.]\n",
      "  [0. 0. 0. 0. 0.]]]\n"
     ]
    }
   ],
   "source": [
    "c=np.zeros([3,4,5]) # syntax : shape,rows,colums\n",
    "print(c)"
   ]
  },
  {
   "cell_type": "code",
   "execution_count": 25,
   "id": "8495ffc7-2cd5-4d40-b5d6-af8e161e0306",
   "metadata": {},
   "outputs": [
    {
     "name": "stdout",
     "output_type": "stream",
     "text": [
      "[[[0. 0. 0. 0. 0.]\n",
      "  [0. 0. 0. 0. 0.]]]\n"
     ]
    }
   ],
   "source": [
    "c=np.zeros([1,2,5]) # syntax : shape,rows,colums\n",
    "print(c)"
   ]
  },
  {
   "cell_type": "code",
   "execution_count": 26,
   "id": "7f2a001e-993f-4ea7-9fdf-74e598f99d2c",
   "metadata": {},
   "outputs": [
    {
     "name": "stdout",
     "output_type": "stream",
     "text": [
      "[[[0. 0.]\n",
      "  [0. 0.]]\n",
      "\n",
      " [[0. 0.]\n",
      "  [0. 0.]]\n",
      "\n",
      " [[0. 0.]\n",
      "  [0. 0.]]]\n"
     ]
    }
   ],
   "source": [
    "c=np.zeros([3,2,2]) # syntax : shape,rows,colums\n",
    "print(c)"
   ]
  },
  {
   "cell_type": "code",
   "execution_count": 27,
   "id": "691a61f0-5066-41a8-9c04-18d27896ff5f",
   "metadata": {},
   "outputs": [
    {
     "name": "stdout",
     "output_type": "stream",
     "text": [
      "[[[0. 0. 0. 0. 0.]\n",
      "  [0. 0. 0. 0. 0.]]\n",
      "\n",
      " [[0. 0. 0. 0. 0.]\n",
      "  [0. 0. 0. 0. 0.]]]\n"
     ]
    }
   ],
   "source": [
    "c=np.zeros([2,2,5]) # syntax : shape,rows,colums\n",
    "print(c)"
   ]
  },
  {
   "cell_type": "code",
   "execution_count": 28,
   "id": "eb81d202-142f-4c22-ae60-5c9031c73713",
   "metadata": {},
   "outputs": [
    {
     "name": "stdout",
     "output_type": "stream",
     "text": [
      "[[[[0. 0. 0.]\n",
      "   [0. 0. 0.]]\n",
      "\n",
      "  [[0. 0. 0.]\n",
      "   [0. 0. 0.]]]]\n"
     ]
    }
   ],
   "source": [
    "c=np.zeros([1,2,2,3]) # syntax : shape,rows,colums\n",
    "print(c)"
   ]
  },
  {
   "cell_type": "code",
   "execution_count": 29,
   "id": "b3b4091c-5b51-4619-8a94-2e2761c816b8",
   "metadata": {},
   "outputs": [
    {
     "name": "stdout",
     "output_type": "stream",
     "text": [
      "[[[[[0. 0. 0. 0.]\n",
      "    [0. 0. 0. 0.]\n",
      "    [0. 0. 0. 0.]]\n",
      "\n",
      "   [[0. 0. 0. 0.]\n",
      "    [0. 0. 0. 0.]\n",
      "    [0. 0. 0. 0.]]]\n",
      "\n",
      "\n",
      "  [[[0. 0. 0. 0.]\n",
      "    [0. 0. 0. 0.]\n",
      "    [0. 0. 0. 0.]]\n",
      "\n",
      "   [[0. 0. 0. 0.]\n",
      "    [0. 0. 0. 0.]\n",
      "    [0. 0. 0. 0.]]]]]\n"
     ]
    }
   ],
   "source": [
    "c=np.zeros([1,2,2,3,4]) # syntax : shape,rows,colums\n",
    "print(c)"
   ]
  },
  {
   "cell_type": "code",
   "execution_count": 30,
   "id": "8157f9ec-1c02-433f-89db-033f6470857a",
   "metadata": {},
   "outputs": [
    {
     "name": "stdout",
     "output_type": "stream",
     "text": [
      "[[[[[[0.]\n",
      "     [0.]]]\n",
      "\n",
      "\n",
      "   [[[0.]\n",
      "     [0.]]]]]]\n"
     ]
    }
   ],
   "source": [
    "c=np.zeros([1,1,2,1,2,1]) # syntax : shape,rows,colums\n",
    "print(c)"
   ]
  },
  {
   "cell_type": "markdown",
   "id": "3e778fdf-a0c6-428a-8f79-4d849aca0b62",
   "metadata": {},
   "source": [
    "2.for ones:"
   ]
  },
  {
   "cell_type": "markdown",
   "id": "c118c7a4-9816-4255-8ac2-e90d3aab8ace",
   "metadata": {},
   "source": [
    "- Two create an entire array with ones"
   ]
  },
  {
   "cell_type": "code",
   "execution_count": 33,
   "id": "ea20791a-15c4-4ee1-8802-c6c380d5e298",
   "metadata": {},
   "outputs": [
    {
     "name": "stdout",
     "output_type": "stream",
     "text": [
      "[[[1. 1. 1. 1.]\n",
      "  [1. 1. 1. 1.]\n",
      "  [1. 1. 1. 1.]]\n",
      "\n",
      " [[1. 1. 1. 1.]\n",
      "  [1. 1. 1. 1.]\n",
      "  [1. 1. 1. 1.]]]\n"
     ]
    }
   ],
   "source": [
    "b=np.ones([2,3,4]) # shape,row,column\n",
    "print(b)"
   ]
  },
  {
   "cell_type": "code",
   "execution_count": 34,
   "id": "ac904903-4908-4113-b40b-3adf09f96b2b",
   "metadata": {},
   "outputs": [
    {
     "name": "stdout",
     "output_type": "stream",
     "text": [
      "[[[1. 1. 1. 1.]\n",
      "  [1. 1. 1. 1.]\n",
      "  [1. 1. 1. 1.]]]\n"
     ]
    }
   ],
   "source": [
    "b=np.ones([1,3,4]) # shape,row,column\n",
    "print(b)"
   ]
  },
  {
   "cell_type": "code",
   "execution_count": 35,
   "id": "cbc0b901-5781-4477-b614-1f7c314c9a80",
   "metadata": {},
   "outputs": [
    {
     "name": "stdout",
     "output_type": "stream",
     "text": [
      "[[1. 1. 1. 1.]\n",
      " [1. 1. 1. 1.]\n",
      " [1. 1. 1. 1.]]\n"
     ]
    }
   ],
   "source": [
    "b=np.ones([3,4]) # shape,row,column\n",
    "print(b)"
   ]
  },
  {
   "cell_type": "code",
   "execution_count": 36,
   "id": "40012300-1153-473d-bc4d-a11722c6af81",
   "metadata": {},
   "outputs": [
    {
     "name": "stdout",
     "output_type": "stream",
     "text": [
      "[[[[1. 1. 1.]\n",
      "   [1. 1. 1.]]\n",
      "\n",
      "  [[1. 1. 1.]\n",
      "   [1. 1. 1.]]]]\n"
     ]
    }
   ],
   "source": [
    "c=np.ones([1,2,2,3]) # syntax : shape,rows,colums\n",
    "print(c)"
   ]
  },
  {
   "cell_type": "code",
   "execution_count": 37,
   "id": "5a7eafa5-5873-461b-98bf-3ce1afe1437d",
   "metadata": {},
   "outputs": [
    {
     "name": "stdout",
     "output_type": "stream",
     "text": [
      "[[[[[[1.]\n",
      "     [1.]]]\n",
      "\n",
      "\n",
      "   [[[1.]\n",
      "     [1.]]]]]]\n"
     ]
    }
   ],
   "source": [
    "c=np.ones([1,1,2,1,2,1]) # syntax : shape,rows,colums\n",
    "print(c)"
   ]
  },
  {
   "cell_type": "code",
   "execution_count": 38,
   "id": "16d7763c-b973-415d-95a8-e2a9ea412fc1",
   "metadata": {},
   "outputs": [
    {
     "name": "stdout",
     "output_type": "stream",
     "text": [
      "[[[1. 1. 1.]\n",
      "  [1. 1. 1.]]\n",
      "\n",
      " [[1. 1. 1.]\n",
      "  [1. 1. 1.]]]\n"
     ]
    }
   ],
   "source": [
    "c=np.ones([2,2,3]) # syntax : shape,rows,colums\n",
    "print(c)"
   ]
  },
  {
   "cell_type": "markdown",
   "id": "3e25879c-d87d-440d-84b8-68ea71372af8",
   "metadata": {},
   "source": [
    "3.for creating evenly spaced values:"
   ]
  },
  {
   "cell_type": "code",
   "execution_count": 40,
   "id": "fd343e2e-f330-4654-8ead-1cc700d3b756",
   "metadata": {},
   "outputs": [
    {
     "name": "stdout",
     "output_type": "stream",
     "text": [
      "[ 1  6 11 16]\n"
     ]
    }
   ],
   "source": [
    "d=np.arange(1,20,5)  # [start value,end value,step]\n",
    "print(d)              #[step = n-1,  5-1=4] skips 4 values and print the next value "
   ]
  },
  {
   "cell_type": "code",
   "execution_count": 41,
   "id": "32da6ccf-3a77-4e74-bf60-49b7ea7784d3",
   "metadata": {},
   "outputs": [
    {
     "name": "stdout",
     "output_type": "stream",
     "text": [
      "[1 7]\n"
     ]
    }
   ],
   "source": [
    "d=np.arange(1,10,6)  # [start value,end value,step]\n",
    "print(d)              #[step = n-1,  6-1=5] skips 4 values and print the next value "
   ]
  },
  {
   "cell_type": "code",
   "execution_count": 42,
   "id": "541a57e3-edc1-4629-b370-c09d514723ff",
   "metadata": {},
   "outputs": [
    {
     "name": "stdout",
     "output_type": "stream",
     "text": [
      "[ 1  4  7 10 13]\n"
     ]
    }
   ],
   "source": [
    "d=np.arange(1,15,3)  # [start value,end value,step]\n",
    "print(d)              #[step = n-1,  3-1=2] skips 4 values and print the next value "
   ]
  },
  {
   "cell_type": "code",
   "execution_count": 43,
   "id": "b4f141b8-99b5-4188-bd9b-cabec8019272",
   "metadata": {},
   "outputs": [
    {
     "name": "stdout",
     "output_type": "stream",
     "text": [
      "[ 1  3  5  7  9 11 13 15 17 19 21 23 25 27 29 31 33 35 37 39 41 43 45 47\n",
      " 49 51 53 55 57 59 61 63 65 67 69 71 73 75 77 79 81 83 85 87 89 91 93 95\n",
      " 97 99]\n"
     ]
    }
   ],
   "source": [
    "d=np.arange(1,100,2)  # [start value,end value,step]\n",
    "print(d)              #[step = n-1,  2-1=1] skips 4 values and print the next value "
   ]
  },
  {
   "cell_type": "markdown",
   "id": "1f5cd2e9-c46e-460d-9191-257eec51789e",
   "metadata": {},
   "source": [
    "4.for evenly spaced samples:"
   ]
  },
  {
   "cell_type": "code",
   "execution_count": 45,
   "id": "a254db78-1704-4b35-ae78-a7309b58cf03",
   "metadata": {},
   "outputs": [
    {
     "name": "stdout",
     "output_type": "stream",
     "text": [
      "[ 1.  4.  7. 10.]\n"
     ]
    }
   ],
   "source": [
    "s=np.linspace(1,10,4)     # [starting,ending , how many ]\n",
    "print(s)"
   ]
  },
  {
   "cell_type": "code",
   "execution_count": 46,
   "id": "5a635664-f914-4d40-9c65-c31634bc19ed",
   "metadata": {},
   "outputs": [
    {
     "name": "stdout",
     "output_type": "stream",
     "text": [
      "[  1.           6.21052632  11.42105263  16.63157895  21.84210526\n",
      "  27.05263158  32.26315789  37.47368421  42.68421053  47.89473684\n",
      "  53.10526316  58.31578947  63.52631579  68.73684211  73.94736842\n",
      "  79.15789474  84.36842105  89.57894737  94.78947368 100.        ]\n"
     ]
    }
   ],
   "source": [
    "s=np.linspace(1,100,20)     # [starting,ending , how many ]\n",
    "print(s)"
   ]
  },
  {
   "cell_type": "code",
   "execution_count": 47,
   "id": "10eab3e8-14cb-460e-ba29-50c0f22d204e",
   "metadata": {},
   "outputs": [
    {
     "name": "stdout",
     "output_type": "stream",
     "text": [
      "[ 1. 15.]\n"
     ]
    }
   ],
   "source": [
    "s=np.linspace(1,15,2)     # [starting,ending , how many times ]\n",
    "print(s)"
   ]
  },
  {
   "cell_type": "code",
   "execution_count": 48,
   "id": "d81140a8-45e2-4d85-a9b2-0e488e679a05",
   "metadata": {},
   "outputs": [
    {
     "name": "stdout",
     "output_type": "stream",
     "text": [
      "[ 1.          1.78947368  2.57894737  3.36842105  4.15789474  4.94736842\n",
      "  5.73684211  6.52631579  7.31578947  8.10526316  8.89473684  9.68421053\n",
      " 10.47368421 11.26315789 12.05263158 12.84210526 13.63157895 14.42105263\n",
      " 15.21052632 16.        ]\n"
     ]
    }
   ],
   "source": [
    "s=np.linspace(1,16,20)     # [starting,ending , how many times ]\n",
    "print(s)"
   ]
  },
  {
   "cell_type": "code",
   "execution_count": 49,
   "id": "9103ba9d-5cba-4feb-a199-a937ff4a3ba5",
   "metadata": {},
   "outputs": [
    {
     "name": "stdout",
     "output_type": "stream",
     "text": [
      "[  1.           8.84210526  16.68421053  24.52631579  32.36842105\n",
      "  40.21052632  48.05263158  55.89473684  63.73684211  71.57894737\n",
      "  79.42105263  87.26315789  95.10526316 102.94736842 110.78947368\n",
      " 118.63157895 126.47368421 134.31578947 142.15789474 150.        ]\n"
     ]
    }
   ],
   "source": [
    "s=np.linspace(1,150,20)     # [starting,ending , how many times ]\n",
    "print(s)"
   ]
  },
  {
   "cell_type": "code",
   "execution_count": 50,
   "id": "314b670f-566b-4f85-b3f1-2de1de45ac35",
   "metadata": {},
   "outputs": [],
   "source": [
    "import numpy as np"
   ]
  },
  {
   "cell_type": "markdown",
   "id": "e35e9e17-3428-49a4-b012-e1edf78aa7eb",
   "metadata": {},
   "source": [
    "5.Create a 1D array :"
   ]
  },
  {
   "cell_type": "code",
   "execution_count": 52,
   "id": "b772675b-5b12-4737-89dc-a5ec810f7c09",
   "metadata": {},
   "outputs": [
    {
     "name": "stdout",
     "output_type": "stream",
     "text": [
      "[4 4]\n"
     ]
    }
   ],
   "source": [
    "e=np.full((2),4)    #2 is columns\n",
    "print(e)"
   ]
  },
  {
   "cell_type": "code",
   "execution_count": 53,
   "id": "47bf4cba-d1ac-4404-82e0-54ccd2e41732",
   "metadata": {},
   "outputs": [
    {
     "name": "stdout",
     "output_type": "stream",
     "text": [
      "[3 3 3]\n"
     ]
    }
   ],
   "source": [
    "e=np.full((3),3)\n",
    "print(e)"
   ]
  },
  {
   "cell_type": "code",
   "execution_count": 54,
   "id": "eb80245d-5ee9-4f34-89ec-125bf6a147ed",
   "metadata": {},
   "outputs": [
    {
     "name": "stdout",
     "output_type": "stream",
     "text": [
      "[4 4 4 4 4 4 4 4 4 4]\n"
     ]
    }
   ],
   "source": [
    "d=np.full((10),4)\n",
    "print(d)"
   ]
  },
  {
   "cell_type": "markdown",
   "id": "4da1ca90-21c1-405f-b866-84d13e55ba00",
   "metadata": {},
   "source": [
    "6.create 2D array:"
   ]
  },
  {
   "cell_type": "code",
   "execution_count": 56,
   "id": "7f553768-6469-4136-91cd-6ad334aea443",
   "metadata": {},
   "outputs": [
    {
     "name": "stdout",
     "output_type": "stream",
     "text": [
      "[[5 5 5]\n",
      " [5 5 5]]\n",
      "2\n"
     ]
    }
   ],
   "source": [
    "a=np.full((2,3),5)\n",
    "print(a)\n",
    "print(a.ndim)"
   ]
  },
  {
   "cell_type": "code",
   "execution_count": 57,
   "id": "c8f8d9a9-9b2a-4fa0-b067-3bd88685ff8e",
   "metadata": {},
   "outputs": [
    {
     "name": "stdout",
     "output_type": "stream",
     "text": [
      "[[5 5 5]\n",
      " [5 5 5]\n",
      " [5 5 5]]\n",
      "2\n"
     ]
    }
   ],
   "source": [
    "a=np.full((3,3),5)\n",
    "print(a)\n",
    "print(a.ndim)"
   ]
  },
  {
   "cell_type": "code",
   "execution_count": 58,
   "id": "8b6f7c92-f602-40a1-b978-e8b8822833bd",
   "metadata": {},
   "outputs": [
    {
     "name": "stdout",
     "output_type": "stream",
     "text": [
      "[[5 5 5]\n",
      " [5 5 5]\n",
      " [5 5 5]\n",
      " [5 5 5]]\n",
      "2\n"
     ]
    }
   ],
   "source": [
    "a=np.full((4,3),5)\n",
    "print(a)\n",
    "print(a.ndim)"
   ]
  },
  {
   "cell_type": "markdown",
   "id": "59da45dd-ef74-4499-bac4-c25fd2ff79e4",
   "metadata": {},
   "source": [
    "7.Create a 3D array:"
   ]
  },
  {
   "cell_type": "code",
   "execution_count": 60,
   "id": "d2e814f6-3cda-4fa2-b4b4-f5b1c400fb96",
   "metadata": {},
   "outputs": [
    {
     "name": "stdout",
     "output_type": "stream",
     "text": [
      "[[[10 10 10 10 10]\n",
      "  [10 10 10 10 10]\n",
      "  [10 10 10 10 10]\n",
      "  [10 10 10 10 10]]\n",
      "\n",
      " [[10 10 10 10 10]\n",
      "  [10 10 10 10 10]\n",
      "  [10 10 10 10 10]\n",
      "  [10 10 10 10 10]]\n",
      "\n",
      " [[10 10 10 10 10]\n",
      "  [10 10 10 10 10]\n",
      "  [10 10 10 10 10]\n",
      "  [10 10 10 10 10]]]\n"
     ]
    }
   ],
   "source": [
    "f=np.full((3,4,5),10)\n",
    "print(f)"
   ]
  },
  {
   "cell_type": "code",
   "execution_count": 61,
   "id": "f409e818-d8ac-4247-9bf8-0c55c2c44a74",
   "metadata": {},
   "outputs": [
    {
     "name": "stdout",
     "output_type": "stream",
     "text": [
      "[[[4 4 4 4 4]\n",
      "  [4 4 4 4 4]\n",
      "  [4 4 4 4 4]\n",
      "  [4 4 4 4 4]]\n",
      "\n",
      " [[4 4 4 4 4]\n",
      "  [4 4 4 4 4]\n",
      "  [4 4 4 4 4]\n",
      "  [4 4 4 4 4]]\n",
      "\n",
      " [[4 4 4 4 4]\n",
      "  [4 4 4 4 4]\n",
      "  [4 4 4 4 4]\n",
      "  [4 4 4 4 4]]\n",
      "\n",
      " [[4 4 4 4 4]\n",
      "  [4 4 4 4 4]\n",
      "  [4 4 4 4 4]\n",
      "  [4 4 4 4 4]]]\n"
     ]
    }
   ],
   "source": [
    "f=np.full((4,4,5),4)\n",
    "print(f)"
   ]
  },
  {
   "cell_type": "code",
   "execution_count": 62,
   "id": "b5fafe0e-0714-45cf-ac87-0f089a82e1bc",
   "metadata": {},
   "outputs": [
    {
     "name": "stdout",
     "output_type": "stream",
     "text": [
      "[[[2 2]\n",
      "  [2 2]]\n",
      "\n",
      " [[2 2]\n",
      "  [2 2]]]\n"
     ]
    }
   ],
   "source": [
    "f=np.full((2,2,2),2)\n",
    "print(f)"
   ]
  },
  {
   "cell_type": "markdown",
   "id": "fd2c13e7-f40a-456b-91d4-a309abad3c75",
   "metadata": {},
   "source": [
    "Create 4 D array"
   ]
  },
  {
   "cell_type": "code",
   "execution_count": 64,
   "id": "22909153-e454-4263-83df-9b830bde07f3",
   "metadata": {},
   "outputs": [
    {
     "name": "stdout",
     "output_type": "stream",
     "text": [
      "[[[[4 4]\n",
      "   [4 4]\n",
      "   [4 4]]]]\n"
     ]
    }
   ],
   "source": [
    "f=np.full((1,1,3,2),4)\n",
    "print(f)"
   ]
  },
  {
   "cell_type": "code",
   "execution_count": 65,
   "id": "e91128d3-212b-4639-8e40-496f42cbcfbe",
   "metadata": {},
   "outputs": [
    {
     "name": "stdout",
     "output_type": "stream",
     "text": [
      "[[[[5 5 5 5]\n",
      "   [5 5 5 5]\n",
      "   [5 5 5 5]]\n",
      "\n",
      "  [[5 5 5 5]\n",
      "   [5 5 5 5]\n",
      "   [5 5 5 5]]]]\n"
     ]
    }
   ],
   "source": [
    "f=np.full((1,2,3,4),5)\n",
    "print(f)"
   ]
  },
  {
   "cell_type": "markdown",
   "id": "d6664fe0-220b-42ea-b1b0-596687922679",
   "metadata": {},
   "source": [
    "Create 5D array"
   ]
  },
  {
   "cell_type": "code",
   "execution_count": 67,
   "id": "ccbe306a-c7c7-49de-b4d6-a8f3009636c9",
   "metadata": {},
   "outputs": [
    {
     "name": "stdout",
     "output_type": "stream",
     "text": [
      "[[[[[4 4 4 4]\n",
      "    [4 4 4 4]]\n",
      "\n",
      "   [[4 4 4 4]\n",
      "    [4 4 4 4]]]]]\n"
     ]
    }
   ],
   "source": [
    "f=np.full((1,1,2,2,4),4)\n",
    "print(f)"
   ]
  },
  {
   "cell_type": "code",
   "execution_count": 68,
   "id": "165b2695-d639-4991-bf63-6296a2f33464",
   "metadata": {},
   "outputs": [
    {
     "name": "stdout",
     "output_type": "stream",
     "text": [
      "[[[[[4 4 4 4 4]\n",
      "    [4 4 4 4 4]]]]]\n"
     ]
    }
   ],
   "source": [
    "f=np.full((1,1,1,2,5),4)\n",
    "print(f)"
   ]
  },
  {
   "cell_type": "markdown",
   "id": "4105e8b6-1016-45e8-8a21-954739fce86c",
   "metadata": {},
   "source": [
    "Create a 6D array"
   ]
  },
  {
   "cell_type": "code",
   "execution_count": 70,
   "id": "e9bc27ee-4576-4db7-b083-b1eaf198f283",
   "metadata": {},
   "outputs": [
    {
     "name": "stdout",
     "output_type": "stream",
     "text": [
      "[[[[[[4 4 4 4 4 4]\n",
      "     [4 4 4 4 4 4]\n",
      "     [4 4 4 4 4 4]\n",
      "     [4 4 4 4 4 4]\n",
      "     [4 4 4 4 4 4]]]]]]\n"
     ]
    }
   ],
   "source": [
    "f=np.full((1,1,1,1,5,6),4)\n",
    "print(f)"
   ]
  },
  {
   "cell_type": "markdown",
   "id": "0ed44de5-9b12-4b34-8b7e-aa81f7ed7425",
   "metadata": {},
   "source": [
    "8.create a 2*2 identity matrix:"
   ]
  },
  {
   "cell_type": "code",
   "execution_count": 72,
   "id": "61bfe5d4-18f1-4833-84f1-94bfa5e7dabc",
   "metadata": {},
   "outputs": [
    {
     "name": "stdout",
     "output_type": "stream",
     "text": [
      "[[1. 0.]\n",
      " [0. 1.]]\n"
     ]
    }
   ],
   "source": [
    "e=np.eye(2)      # only for 2D\n",
    "print(e)"
   ]
  },
  {
   "cell_type": "code",
   "execution_count": 73,
   "id": "ca0e195c-aa5d-42d3-ab0f-9f7aa860c1ad",
   "metadata": {},
   "outputs": [
    {
     "name": "stdout",
     "output_type": "stream",
     "text": [
      "[[1. 0. 0.]\n",
      " [0. 1. 0.]\n",
      " [0. 0. 1.]]\n"
     ]
    }
   ],
   "source": [
    "e=np.eye(3)\n",
    "print(e)"
   ]
  },
  {
   "cell_type": "code",
   "execution_count": 74,
   "id": "a5d64185-29ad-4f36-be22-0e3778263bfd",
   "metadata": {},
   "outputs": [
    {
     "name": "stdout",
     "output_type": "stream",
     "text": [
      "[[1. 0. 0. 0. 0.]\n",
      " [0. 1. 0. 0. 0.]\n",
      " [0. 0. 1. 0. 0.]\n",
      " [0. 0. 0. 1. 0.]\n",
      " [0. 0. 0. 0. 1.]]\n"
     ]
    }
   ],
   "source": [
    "e=np.eye(5)\n",
    "print(e)"
   ]
  },
  {
   "cell_type": "code",
   "execution_count": 75,
   "id": "35b75ea6-f02f-45b2-8fc3-71765670e051",
   "metadata": {},
   "outputs": [
    {
     "name": "stdout",
     "output_type": "stream",
     "text": [
      "[[1. 0.]\n",
      " [0. 1.]\n",
      " [0. 0.]\n",
      " [0. 0.]]\n"
     ]
    }
   ],
   "source": [
    "e=np.eye(4,2)\n",
    "print(e)"
   ]
  },
  {
   "cell_type": "code",
   "execution_count": 76,
   "id": "afbdd24e-e007-45eb-8ba5-eb199d8e6184",
   "metadata": {},
   "outputs": [
    {
     "name": "stdout",
     "output_type": "stream",
     "text": [
      "[[1. 0.]\n",
      " [0. 1.]]\n"
     ]
    }
   ],
   "source": [
    "e=np.eye(2,2)\n",
    "print(e)"
   ]
  },
  {
   "cell_type": "markdown",
   "id": "8000c243-d160-4ba2-a6b4-7bab25b018b8",
   "metadata": {},
   "source": [
    "9.create a array with random numbers:"
   ]
  },
  {
   "cell_type": "code",
   "execution_count": 78,
   "id": "d536d982-70de-455c-b0ae-65868987c53e",
   "metadata": {},
   "outputs": [
    {
     "name": "stdout",
     "output_type": "stream",
     "text": [
      "[[0.55290128 0.14718781]\n",
      " [0.24673934 0.70520491]]\n"
     ]
    }
   ],
   "source": [
    "e=np.random.random((2,2)) # gives the value between 0 to 1\n",
    "print(e)"
   ]
  },
  {
   "cell_type": "code",
   "execution_count": 79,
   "id": "098ec77c-582c-4b99-926f-673e82ff9a01",
   "metadata": {},
   "outputs": [
    {
     "name": "stdout",
     "output_type": "stream",
     "text": [
      "[[[[0.25277065 0.8480853 ]\n",
      "   [0.46778468 0.13897162]]\n",
      "\n",
      "  [[0.23466797 0.80177075]\n",
      "   [0.06309586 0.54500551]]]\n",
      "\n",
      "\n",
      " [[[0.79840138 0.10280355]\n",
      "   [0.78844995 0.27161635]]\n",
      "\n",
      "  [[0.37158226 0.99705966]\n",
      "   [0.52410107 0.89455309]]]]\n"
     ]
    }
   ],
   "source": [
    "e=np.random.random((2,2,2,2))     \n",
    "print(e)"
   ]
  },
  {
   "cell_type": "code",
   "execution_count": 80,
   "id": "288ea27d-e0fe-4013-8b56-a9f6f4894f24",
   "metadata": {},
   "outputs": [
    {
     "name": "stdout",
     "output_type": "stream",
     "text": [
      "[[[[[0.71658047 0.74762335]\n",
      "    [0.33985299 0.09285716]]\n",
      "\n",
      "   [[0.82851699 0.00552733]\n",
      "    [0.28263357 0.49853983]]]]]\n"
     ]
    }
   ],
   "source": [
    "e=np.random.random((1,1,2,2,2))     \n",
    "print(e)"
   ]
  },
  {
   "cell_type": "code",
   "execution_count": 81,
   "id": "afea6469-90d0-45e8-93cf-f9057dedda50",
   "metadata": {},
   "outputs": [
    {
     "name": "stdout",
     "output_type": "stream",
     "text": [
      "[[[[[[0.02536004 0.00912229 0.08183593]\n",
      "     [0.11843171 0.35600515 0.83848798]]]]]]\n"
     ]
    }
   ],
   "source": [
    "e=np.random.random((1,1,1,1,2,3))     \n",
    "print(e)"
   ]
  },
  {
   "cell_type": "markdown",
   "id": "c089f66f-e2fb-447d-9ea9-36e778471831",
   "metadata": {},
   "source": [
    "10.Create a random value within the range:"
   ]
  },
  {
   "cell_type": "code",
   "execution_count": 83,
   "id": "91537561-eff3-4535-bbcb-a0b0839103b2",
   "metadata": {},
   "outputs": [
    {
     "name": "stdout",
     "output_type": "stream",
     "text": [
      "8\n"
     ]
    }
   ],
   "source": [
    "e=np.random.randint(1,20)    # till the range og 20\n",
    "print(e)"
   ]
  },
  {
   "cell_type": "code",
   "execution_count": 84,
   "id": "ee6ff0eb-a596-4c4d-96d6-c1733726a2e2",
   "metadata": {},
   "outputs": [
    {
     "name": "stdout",
     "output_type": "stream",
     "text": [
      "2\n"
     ]
    }
   ],
   "source": [
    "e=np.random.randint(1,100)\n",
    "print(e)"
   ]
  },
  {
   "cell_type": "markdown",
   "id": "1b4c79ec-6c43-49c7-9554-31a2b49c8bc9",
   "metadata": {},
   "source": [
    "11.To find the shape of array:"
   ]
  },
  {
   "cell_type": "code",
   "execution_count": 86,
   "id": "ba034660-7561-497a-9452-2d2b6d19ce88",
   "metadata": {},
   "outputs": [
    {
     "name": "stdout",
     "output_type": "stream",
     "text": [
      "(4,)\n"
     ]
    }
   ],
   "source": [
    "a=np.array([1,2,3,4])\n",
    "print(a.shape)"
   ]
  },
  {
   "cell_type": "code",
   "execution_count": 87,
   "id": "52bf4b2a-9382-4932-83c2-8d9e5ee66552",
   "metadata": {},
   "outputs": [
    {
     "name": "stdout",
     "output_type": "stream",
     "text": [
      "(3, 3)\n"
     ]
    }
   ],
   "source": [
    "a=np.array([[1,2,3],\n",
    "            [5,6,7],\n",
    "           [5,6,7]])\n",
    "print(a.shape)"
   ]
  },
  {
   "cell_type": "code",
   "execution_count": 88,
   "id": "d8d4822b-2bea-426f-a02a-cba2eb3c19ed",
   "metadata": {},
   "outputs": [
    {
     "name": "stdout",
     "output_type": "stream",
     "text": [
      "(1, 4, 3)\n"
     ]
    }
   ],
   "source": [
    "a=np.array([[[1,2,3],\n",
    "            [5,6,7],\n",
    "            [5,6,7],\n",
    "            [4,3,2]]])\n",
    "print(a.shape)"
   ]
  },
  {
   "cell_type": "code",
   "execution_count": 89,
   "id": "39a929be-6777-40ce-b361-41e3c91ef91e",
   "metadata": {},
   "outputs": [
    {
     "name": "stdout",
     "output_type": "stream",
     "text": [
      "(1, 1, 5, 3)\n"
     ]
    }
   ],
   "source": [
    "a=np.array([[[[1,2,3],\n",
    "            [5,6,7],\n",
    "            [5,6,7],\n",
    "            [4,3,2],\n",
    "            [1,3,2]]]])\n",
    "print(a.shape)"
   ]
  },
  {
   "cell_type": "code",
   "execution_count": 90,
   "id": "dbb7ba39-8e7e-49bf-845a-800dada599ad",
   "metadata": {},
   "outputs": [
    {
     "name": "stdout",
     "output_type": "stream",
     "text": [
      "(1, 1, 1, 6, 3)\n"
     ]
    }
   ],
   "source": [
    "a=np.array([[[[[1,2,3],\n",
    "            [5,6,7],\n",
    "            [5,6,7],\n",
    "            [4,3,2],\n",
    "            [1,3,2],\n",
    "             [21,3,2]]]]])\n",
    "print(a.shape)"
   ]
  },
  {
   "cell_type": "code",
   "execution_count": 91,
   "id": "2e50d4ce-786c-4492-813d-d85c5200b83e",
   "metadata": {},
   "outputs": [
    {
     "name": "stdout",
     "output_type": "stream",
     "text": [
      "(1, 1, 1, 1, 7, 3)\n"
     ]
    }
   ],
   "source": [
    "a=np.array([[[[[[1,2,3],\n",
    "            [5,6,7],\n",
    "            [5,6,7],\n",
    "            [4,3,2],\n",
    "            [1,3,2],\n",
    "             [21,3,2],\n",
    "              [2,3,4]]]]]])\n",
    "print(a.shape)"
   ]
  },
  {
   "cell_type": "markdown",
   "id": "f0832d04-cbab-46b1-a663-08b915b04c24",
   "metadata": {},
   "source": [
    "12.To find the no of elements in an array:"
   ]
  },
  {
   "cell_type": "code",
   "execution_count": 93,
   "id": "2cd7ef05-9fb4-4968-8917-17b5fe471616",
   "metadata": {},
   "outputs": [
    {
     "name": "stdout",
     "output_type": "stream",
     "text": [
      "9\n"
     ]
    }
   ],
   "source": [
    "a=np.array([[1,2,3],         \n",
    "            [5,6,7],\n",
    "           [5,6,7]])\n",
    "print(a.size)                 "
   ]
  },
  {
   "cell_type": "code",
   "execution_count": 94,
   "id": "2c074f87-bded-47fd-b95c-00e86c6b5e68",
   "metadata": {},
   "outputs": [
    {
     "name": "stdout",
     "output_type": "stream",
     "text": [
      "8\n"
     ]
    }
   ],
   "source": [
    "a=np.array([[1,2,3,4],\n",
    "            [5,6,7,8]])\n",
    "print(a.size)"
   ]
  },
  {
   "cell_type": "code",
   "execution_count": 95,
   "id": "d1412bfb-ea57-47aa-8024-449be8672ae7",
   "metadata": {},
   "outputs": [
    {
     "name": "stdout",
     "output_type": "stream",
     "text": [
      "12\n"
     ]
    }
   ],
   "source": [
    "a=np.array([[[1,2,3],\n",
    "            [5,6,7],\n",
    "            [5,6,7],\n",
    "            [4,3,2]]])\n",
    "print(a.size)"
   ]
  },
  {
   "cell_type": "code",
   "execution_count": 96,
   "id": "2a66dbb9-625e-480d-a95c-869a26436fbb",
   "metadata": {},
   "outputs": [
    {
     "name": "stdout",
     "output_type": "stream",
     "text": [
      "18\n"
     ]
    }
   ],
   "source": [
    "a=np.array([[[[[1,2,3],\n",
    "            [5,6,7],\n",
    "            [5,6,7],\n",
    "            [4,3,2],\n",
    "            [1,3,2],\n",
    "             [21,3,2]]]]])\n",
    "print(a.size)"
   ]
  },
  {
   "cell_type": "code",
   "execution_count": 508,
   "id": "112cc056-e334-42c6-aacf-f00251d9a8d2",
   "metadata": {},
   "outputs": [
    {
     "name": "stdout",
     "output_type": "stream",
     "text": [
      "21\n"
     ]
    }
   ],
   "source": [
    "a=np.array([[[[[[1,2,3],\n",
    "            [5,6,7],\n",
    "            [5,6,7],\n",
    "            [4,3,2],\n",
    "            [1,3,2],\n",
    "            [21,3,2],\n",
    "            [2,3,4]]]]]])\n",
    "print(a.size)"
   ]
  },
  {
   "cell_type": "markdown",
   "id": "f5eb1f19-b671-4724-abcc-214c640e31cc",
   "metadata": {},
   "source": [
    "13.To find the length of array:"
   ]
  },
  {
   "cell_type": "code",
   "execution_count": 99,
   "id": "d4293e0e-58cd-405c-82d3-f43d0b612989",
   "metadata": {},
   "outputs": [
    {
     "data": {
      "text/plain": [
       "2"
      ]
     },
     "execution_count": 99,
     "metadata": {},
     "output_type": "execute_result"
    }
   ],
   "source": [
    "a=np.array([[1,2,3,4],\n",
    "            [5,6,7,8]])\n",
    "len(a)                       # output will be rows"
   ]
  },
  {
   "cell_type": "code",
   "execution_count": 100,
   "id": "cc4906bf-dc66-42d8-b392-f851b43dda49",
   "metadata": {},
   "outputs": [
    {
     "name": "stdout",
     "output_type": "stream",
     "text": [
      "4\n"
     ]
    }
   ],
   "source": [
    "a=np.array([[1,2,3,4],\n",
    "            [5,6,7,8],\n",
    "            [5,6,7,8],\n",
    "            [5,6,7,8]])\n",
    "print(len(a))"
   ]
  },
  {
   "cell_type": "code",
   "execution_count": 101,
   "id": "5367c410-60ad-47d5-b15c-ef14a6aa4ed1",
   "metadata": {},
   "outputs": [
    {
     "data": {
      "text/plain": [
       "1"
      ]
     },
     "execution_count": 101,
     "metadata": {},
     "output_type": "execute_result"
    }
   ],
   "source": [
    "a=np.array([[[1,2,3],\n",
    "            [5,6,7],\n",
    "            [5,6,7],\n",
    "            [4,3,2]]])\n",
    "len(a)"
   ]
  },
  {
   "cell_type": "markdown",
   "id": "2a7be6b3-f5ca-42c8-9c0b-aafa5b05a791",
   "metadata": {},
   "source": [
    "# Access Array Element"
   ]
  },
  {
   "cell_type": "markdown",
   "id": "86a92498-967e-48f0-919f-fe8a44362d32",
   "metadata": {},
   "source": [
    "- you can access an array elements by referring its index number.\n",
    "- same,indexes start with 0\n",
    "- first element has index 0\n"
   ]
  },
  {
   "cell_type": "code",
   "execution_count": 104,
   "id": "9537fa9d-c416-4318-a241-b7e90f0b09b3",
   "metadata": {},
   "outputs": [
    {
     "name": "stdout",
     "output_type": "stream",
     "text": [
      "4\n"
     ]
    }
   ],
   "source": [
    "arr=np.array([1,2,3,4,5])\n",
    "print(arr[3])  #index"
   ]
  },
  {
   "cell_type": "code",
   "execution_count": 105,
   "id": "42abdf3d-93d3-4b61-9cdd-1a4e1c3dd67b",
   "metadata": {},
   "outputs": [
    {
     "name": "stdout",
     "output_type": "stream",
     "text": [
      "1\n"
     ]
    }
   ],
   "source": [
    "arr=np.array([1,2,3,4,5])\n",
    "print(arr[0])"
   ]
  },
  {
   "cell_type": "code",
   "execution_count": 106,
   "id": "4a1a57a6-ea54-4337-8774-cca212938025",
   "metadata": {},
   "outputs": [
    {
     "name": "stdout",
     "output_type": "stream",
     "text": [
      "9\n"
     ]
    }
   ],
   "source": [
    "# for arithemetic operator\n",
    "\n",
    "arr=np.array([1,2,3,4,5])\n",
    "print(arr[3]+arr[2]+arr[1])"
   ]
  },
  {
   "cell_type": "code",
   "execution_count": 107,
   "id": "53645340-2454-4aa2-b89c-4c198697728c",
   "metadata": {},
   "outputs": [
    {
     "name": "stdout",
     "output_type": "stream",
     "text": [
      "5\n"
     ]
    }
   ],
   "source": [
    "arr=np.array([1,2,3,4,5])\n",
    "print(arr[3]+arr[2]-arr[1])"
   ]
  },
  {
   "cell_type": "code",
   "execution_count": 108,
   "id": "5610cb78-7a80-43bb-aa90-35d4e9c36606",
   "metadata": {},
   "outputs": [
    {
     "name": "stdout",
     "output_type": "stream",
     "text": [
      "9\n"
     ]
    }
   ],
   "source": [
    "# accessing 2D array\n",
    "\n",
    "arr=np.array([[1,2,3],\n",
    "              [4,5,6],\n",
    "              [7,8,9]])\n",
    "print(arr[2,2])"
   ]
  },
  {
   "cell_type": "code",
   "execution_count": 109,
   "id": "65636a67-9246-4c5a-974d-4af43796e3d6",
   "metadata": {},
   "outputs": [
    {
     "name": "stdout",
     "output_type": "stream",
     "text": [
      "6\n"
     ]
    }
   ],
   "source": [
    "arr=np.array([[1,2,3],\n",
    "              [4,5,6],\n",
    "              [7,8,9]])\n",
    "print(arr[1,2])"
   ]
  },
  {
   "cell_type": "code",
   "execution_count": 110,
   "id": "784fd9ae-4507-4c55-9185-d80c13f152b6",
   "metadata": {},
   "outputs": [
    {
     "name": "stdout",
     "output_type": "stream",
     "text": [
      "1\n"
     ]
    }
   ],
   "source": [
    "arr=np.array([[1,2,3],\n",
    "              [4,5,6],\n",
    "              [7,8,9]])\n",
    "print(arr[0,0]) #row,col"
   ]
  },
  {
   "cell_type": "code",
   "execution_count": 111,
   "id": "b4189982-8319-4bfa-965d-64a3b95a3a1b",
   "metadata": {},
   "outputs": [
    {
     "name": "stdout",
     "output_type": "stream",
     "text": [
      "3\n"
     ]
    }
   ],
   "source": [
    "arr=np.array([[1,2,3],\n",
    "              [4,5,6],\n",
    "              [7,8,9]])\n",
    "print(arr[0,2])          #(row,index)"
   ]
  },
  {
   "cell_type": "code",
   "execution_count": 112,
   "id": "4fd52f3c-0257-422e-b720-daf47013b14f",
   "metadata": {},
   "outputs": [
    {
     "name": "stdout",
     "output_type": "stream",
     "text": [
      "9\n"
     ]
    }
   ],
   "source": [
    "arr=np.array([[1,2,3],\n",
    "              [4,5,6],\n",
    "              [7,8,9],\n",
    "             [5,6,7]])\n",
    "print(arr[2,2])     #(row,index)"
   ]
  },
  {
   "cell_type": "code",
   "execution_count": 113,
   "id": "b815e105-7db6-4a4c-a3e0-f7d8f7eee9c5",
   "metadata": {},
   "outputs": [
    {
     "name": "stdout",
     "output_type": "stream",
     "text": [
      "7\n"
     ]
    }
   ],
   "source": [
    "arr=np.array([[1,2,3],\n",
    "              [4,5,6],\n",
    "              [7,8,9],\n",
    "             [5,6,7]])\n",
    "print(arr[3,2])       #(row,index)"
   ]
  },
  {
   "cell_type": "code",
   "execution_count": 114,
   "id": "0b591dc3-f59d-4738-86f6-b07fea89c83b",
   "metadata": {},
   "outputs": [
    {
     "name": "stdout",
     "output_type": "stream",
     "text": [
      "6\n"
     ]
    }
   ],
   "source": [
    "arr=np.array([[1,2,3],\n",
    "              [4,5,6],\n",
    "              [7,8,9],\n",
    "             [5,6,7]])\n",
    "print(arr[3,1])       #(row,index)"
   ]
  },
  {
   "cell_type": "code",
   "execution_count": 115,
   "id": "0bf1dd93-9ee0-4453-af3c-56d1ee6c9b35",
   "metadata": {},
   "outputs": [
    {
     "name": "stdout",
     "output_type": "stream",
     "text": [
      "18\n"
     ]
    }
   ],
   "source": [
    "# Accessing 3D array:\n",
    "                 #0       #1\n",
    "arr=np.array([[[1,2,3],[4,5,6]],     #0\n",
    "              [[7,8,9],[10,11,12]],  #1\n",
    "              [[13,14,15],[16,17,18]]]) #2\n",
    "\n",
    "print(arr[2,1,2])     #(row,colu,index)"
   ]
  },
  {
   "cell_type": "code",
   "execution_count": 116,
   "id": "8d611d2e-fa17-4005-bcc5-51836519ca9e",
   "metadata": {},
   "outputs": [
    {
     "name": "stdout",
     "output_type": "stream",
     "text": [
      "6\n"
     ]
    }
   ],
   "source": [
    "                 #0       #1\n",
    "arr=np.array([[[1,2,3],[4,5,6]],     #0\n",
    "              [[7,8,9],[10,11,12]],  #1\n",
    "              [[13,14,15],[16,17,18]]]) #2\n",
    "\n",
    "print(arr[0,1,2])   #(row,colu,index)"
   ]
  },
  {
   "cell_type": "code",
   "execution_count": 117,
   "id": "fbe6ffcf-d157-416c-be0e-61d1f1981175",
   "metadata": {},
   "outputs": [
    {
     "name": "stdout",
     "output_type": "stream",
     "text": [
      "174\n"
     ]
    }
   ],
   "source": [
    "                 #0       #1         #2\n",
    "arr=np.array([[[1,2,3],[4,5,6],[34,54,21]],    #0\n",
    "              [[7,8,9],[10,11,12],[43,21,34]],  #1\n",
    "              [[13,14,15],[16,17,18],[56,78,9]]]) #2\n",
    "\n",
    "print(arr[0,2,2]+arr[2,2,2]*arr[2,1,1])  #(row,colu,index)"
   ]
  },
  {
   "cell_type": "code",
   "execution_count": 118,
   "id": "f4de326c-015a-4997-b151-d0fbbd11b49e",
   "metadata": {},
   "outputs": [
    {
     "name": "stdout",
     "output_type": "stream",
     "text": [
      "23\n"
     ]
    }
   ],
   "source": [
    "                 #0       #1         #2\n",
    "arr=np.array([[[1,2,3],[4,5,6],[34,54,21]],    #0\n",
    "              [[7,8,9],[10,11,12],[43,21,34]],  #1\n",
    "              [[13,14,15],[16,17,18],[56,78,9]]]) #2\n",
    "\n",
    "print(arr[0,1,2]+arr[1,2,2]-arr[2,1,1])   #(row,colu,index)"
   ]
  },
  {
   "cell_type": "code",
   "execution_count": 119,
   "id": "89f5e0ef-cd96-40cc-8eca-5ac4f2acf62a",
   "metadata": {},
   "outputs": [
    {
     "name": "stdout",
     "output_type": "stream",
     "text": [
      "34\n"
     ]
    }
   ],
   "source": [
    "arr = np.array([[[[1, 2, 3], [4, 5, 6], [34, 54, 21]],    \n",
    "                 [[7, 8, 9], [10, 11, 12], [43, 21, 34]],\n",
    "                 [[13, 14, 15], [16, 17, 18], [56, 78, 9]]],\n",
    "                 \n",
    "                [[[1, 2, 3], [4, 5, 6], [34, 54, 21]],    \n",
    "                 [[7, 8, 9], [10, 11, 12], [43, 21, 34]],\n",
    "                 [[13, 14, 15], [16, 17, 18], [56, 78, 9]]]])\n",
    "print(arr[1,1,2,2])"
   ]
  },
  {
   "cell_type": "code",
   "execution_count": 120,
   "id": "fd8b5dff-09d8-4758-9370-5985d8c33347",
   "metadata": {},
   "outputs": [
    {
     "name": "stdout",
     "output_type": "stream",
     "text": [
      "43\n"
     ]
    }
   ],
   "source": [
    "arr = np.array([[[[[1, 2, 3], [4, 5, 6], [34, 54, 21]],    \n",
    "                 [[7, 8, 9], [10, 11, 12], [43, 21, 34]],\n",
    "                 [[13, 14, 15], [16, 17, 18], [56, 78, 9]]]], \n",
    "                 \n",
    "               [[[[1, 2, 3], [4, 5, 6], [34, 54, 21]],    \n",
    "                 [[7, 8, 9], [10, 11, 12], [43, 21, 34]],\n",
    "                 [[13, 14, 15], [16, 17, 18], [56, 78, 9]]]]])\n",
    "\n",
    "print(arr[1, 0, 1, 2, 0])"
   ]
  },
  {
   "cell_type": "code",
   "execution_count": 121,
   "id": "4cbb2b2a-3c5d-4298-ab9e-e20471a9b2bd",
   "metadata": {},
   "outputs": [
    {
     "name": "stdout",
     "output_type": "stream",
     "text": [
      "21\n"
     ]
    }
   ],
   "source": [
    "arr = np.array([[[[[[1, 2, 3], [4, 5, 6], [34, 54, 21]],    \n",
    "                 [[7, 8, 9], [10, 11, 12], [43, 21, 34]],\n",
    "                 [[13, 14, 15], [16, 17, 18], [56, 78, 9]]]]]])\n",
    "print(arr[0,0,0,1,2,1])"
   ]
  },
  {
   "cell_type": "markdown",
   "id": "be3d0a7d-8990-4860-91ea-ab2aacf60684",
   "metadata": {},
   "source": [
    "# Data Types:"
   ]
  },
  {
   "cell_type": "markdown",
   "id": "3f8b7e0f-470f-4d96-9d2e-887dbd2c277e",
   "metadata": {},
   "source": [
    "- Numpy has some extra data types and refers to which data type with one characters,like i is for intergers, u for unsigned interger etc\n",
    "- Here are the list of all data types in Numpy and the characters used to represent them\n",
    "\n",
    "  i-integers\n",
    "                         \n",
    "  b-boolean\n",
    "  \n",
    "  f-float\n",
    "  \n",
    "  c-complex float\n",
    "  \n",
    "  M-datatime\n",
    "  \n",
    "  O-object\n",
    "  \n",
    "  S-string"
   ]
  },
  {
   "cell_type": "code",
   "execution_count": 124,
   "id": "87db0361-dc62-454b-8c2a-15f99260468b",
   "metadata": {},
   "outputs": [],
   "source": [
    "import numpy as np"
   ]
  },
  {
   "cell_type": "code",
   "execution_count": 125,
   "id": "e5002a03-1213-4ceb-b86b-48afe7adf18d",
   "metadata": {},
   "outputs": [
    {
     "name": "stdout",
     "output_type": "stream",
     "text": [
      "int32\n"
     ]
    }
   ],
   "source": [
    "arr=np.array([1,2,3,4,5])\n",
    "print(arr.dtype)"
   ]
  },
  {
   "cell_type": "code",
   "execution_count": 126,
   "id": "017d0919-e611-4d8e-9846-7c3851e86f95",
   "metadata": {},
   "outputs": [
    {
     "name": "stdout",
     "output_type": "stream",
     "text": [
      "float64\n"
     ]
    }
   ],
   "source": [
    "arr=np.array([1.2,2.3,3.5,4.2,5.0])\n",
    "print(arr.dtype)"
   ]
  },
  {
   "cell_type": "code",
   "execution_count": 127,
   "id": "4a378289-70ab-485c-8c9a-cde89fe3b9f5",
   "metadata": {},
   "outputs": [
    {
     "name": "stdout",
     "output_type": "stream",
     "text": [
      "bool\n"
     ]
    }
   ],
   "source": [
    "arr=np.array([True,False,True,False])\n",
    "print(arr.dtype)"
   ]
  },
  {
   "cell_type": "code",
   "execution_count": 128,
   "id": "b0cb2b89-9047-4429-a45e-ec5bf81c96ed",
   "metadata": {},
   "outputs": [
    {
     "name": "stdout",
     "output_type": "stream",
     "text": [
      "complex128\n"
     ]
    }
   ],
   "source": [
    "a=np.array([3+2j,3.3+4.5j])\n",
    "print(a.dtype)"
   ]
  },
  {
   "cell_type": "code",
   "execution_count": 129,
   "id": "e90c28b8-2e05-4bb1-ac06-711900c8cb3a",
   "metadata": {},
   "outputs": [
    {
     "name": "stdout",
     "output_type": "stream",
     "text": [
      "<U10\n"
     ]
    }
   ],
   "source": [
    "b = np.array(['2024-11-13'])\n",
    "print(b.dtype)"
   ]
  },
  {
   "cell_type": "code",
   "execution_count": 130,
   "id": "9781f746-2269-4110-9e38-282f41f8dca2",
   "metadata": {},
   "outputs": [
    {
     "name": "stdout",
     "output_type": "stream",
     "text": [
      "datetime64[D]\n",
      "['2024-11-13']\n"
     ]
    }
   ],
   "source": [
    "b = np.array(['2024-11-13'], dtype='datetime64')\n",
    "print(b.dtype) \n",
    "print(b)      "
   ]
  },
  {
   "cell_type": "markdown",
   "id": "398bbcac-992b-4d2b-b199-40f98ba52f0e",
   "metadata": {},
   "source": [
    "# converting the data types"
   ]
  },
  {
   "cell_type": "code",
   "execution_count": 132,
   "id": "04ee3e43-202d-40fd-816f-42814fc00f57",
   "metadata": {},
   "outputs": [
    {
     "name": "stdout",
     "output_type": "stream",
     "text": [
      "int32\n",
      "[1 2 3 4 5]\n"
     ]
    }
   ],
   "source": [
    "arr=np.array([1.2,2.3,3.5,4.2,5.0],dtype='i')\n",
    "print(arr.dtype)\n",
    "print(arr)"
   ]
  },
  {
   "cell_type": "code",
   "execution_count": 133,
   "id": "420c9d67-fe45-4997-8eb2-3430ddd1d5e4",
   "metadata": {},
   "outputs": [
    {
     "name": "stdout",
     "output_type": "stream",
     "text": [
      "float32\n",
      "[1.2 2.3 3.5 4.2 5. ]\n"
     ]
    }
   ],
   "source": [
    "arr=np.array([1.2,2.3,3.5,4.2,5.0],dtype='f')\n",
    "print(arr.dtype)\n",
    "print(arr)"
   ]
  },
  {
   "cell_type": "code",
   "execution_count": 134,
   "id": "87a4cce3-43f6-4b4e-8b96-26e6a8e02ae8",
   "metadata": {},
   "outputs": [
    {
     "name": "stdout",
     "output_type": "stream",
     "text": [
      "float32\n",
      "[1. 2. 3. 4. 5.]\n"
     ]
    }
   ],
   "source": [
    "arr=np.array([1,2,3,4,5],dtype='f')\n",
    "print(arr.dtype)\n",
    "print(arr)"
   ]
  },
  {
   "cell_type": "code",
   "execution_count": 135,
   "id": "52c1bb00-6097-4c6c-a84e-ce3582d96a48",
   "metadata": {},
   "outputs": [
    {
     "name": "stdout",
     "output_type": "stream",
     "text": [
      "int32\n"
     ]
    }
   ],
   "source": [
    "arr=np.array([True,False,True,False],dtype='i')\n",
    "print(arr.dtype)"
   ]
  },
  {
   "cell_type": "code",
   "execution_count": 136,
   "id": "2dcfb86d-4460-45cb-b10c-c2d16b04994a",
   "metadata": {},
   "outputs": [
    {
     "name": "stdout",
     "output_type": "stream",
     "text": [
      "[1 0 3 0 2 0]\n",
      "[ True False  True False  True False]\n"
     ]
    }
   ],
   "source": [
    "a=np.array([1, 0, 3, 0, 2, 0])\n",
    "b=a.astype(bool)\n",
    "print(a)\n",
    "print(b)"
   ]
  },
  {
   "cell_type": "code",
   "execution_count": 137,
   "id": "bc52c822-e30f-4312-8136-531c2637fb5e",
   "metadata": {},
   "outputs": [
    {
     "name": "stdout",
     "output_type": "stream",
     "text": [
      "[1 0 3 0 2 0]\n",
      "[1. 0. 3. 0. 2. 0.]\n"
     ]
    }
   ],
   "source": [
    "arr=np.array([1,2,3,4,5])\n",
    "b=a.astype(float)\n",
    "print(a)\n",
    "print(b)"
   ]
  },
  {
   "cell_type": "code",
   "execution_count": 138,
   "id": "3f2a4bc5-4b9e-4342-a01f-3b65cbe85189",
   "metadata": {},
   "outputs": [
    {
     "name": "stdout",
     "output_type": "stream",
     "text": [
      "[1.2 2.3 3.5 4.2 5. ]\n",
      "[1 2 3 4 5]\n"
     ]
    }
   ],
   "source": [
    "arr=np.array([1.2,2.3,3.5,4.2,5.0])\n",
    "b=arr.astype(int)\n",
    "print(arr)\n",
    "print(b)"
   ]
  },
  {
   "cell_type": "markdown",
   "id": "96055dc9-1c59-44a0-a2db-7cfa5ac645d6",
   "metadata": {},
   "source": [
    "# copy method"
   ]
  },
  {
   "cell_type": "code",
   "execution_count": 140,
   "id": "e8af0496-b5b0-4ec5-a39e-6da0cf413055",
   "metadata": {},
   "outputs": [
    {
     "name": "stdout",
     "output_type": "stream",
     "text": [
      "[ 1  2 32  4  5]\n",
      "[1 2 3 4 5]\n"
     ]
    }
   ],
   "source": [
    "a=np.array([1,2,3,4,5])\n",
    "x=a.copy()\n",
    "a[2]=32\n",
    "print(a)\n",
    "print(x)"
   ]
  },
  {
   "cell_type": "code",
   "execution_count": 141,
   "id": "1523b377-4ecc-45e0-9d08-5ee416f51cfe",
   "metadata": {},
   "outputs": [
    {
     "name": "stdout",
     "output_type": "stream",
     "text": [
      "[12  2  3  4  5]\n",
      "[1 2 3 4 5]\n"
     ]
    }
   ],
   "source": [
    "a=np.array([1,2,3,4,5])\n",
    "x=a.copy()\n",
    "a[0]=12\n",
    "print(a)\n",
    "print(x)"
   ]
  },
  {
   "cell_type": "code",
   "execution_count": 142,
   "id": "0db7d69c-c9fe-4c48-84a4-ae09582bcb4e",
   "metadata": {},
   "outputs": [
    {
     "name": "stdout",
     "output_type": "stream",
     "text": [
      "[12 23 32 45 54]\n",
      "[1 2 3 4 5]\n"
     ]
    }
   ],
   "source": [
    "a=np.array([1,2,3,4,5])\n",
    "x=a.copy()\n",
    "a[0]=12\n",
    "a[1]=23\n",
    "a[2]=32\n",
    "a[3]=45\n",
    "a[4]=54\n",
    "print(a)\n",
    "print(x)"
   ]
  },
  {
   "cell_type": "code",
   "execution_count": 143,
   "id": "bfc5efbc-5d59-45eb-936e-79175c501d50",
   "metadata": {},
   "outputs": [
    {
     "name": "stdout",
     "output_type": "stream",
     "text": [
      "[12 23  3  4 54]\n",
      "[1 2 3 4 5]\n"
     ]
    }
   ],
   "source": [
    "a=np.array([1,2,3,4,5])\n",
    "x=a.copy()\n",
    "a[0]=12\n",
    "a[1]=23\n",
    "a[4]=54\n",
    "print(a)\n",
    "print(x)"
   ]
  },
  {
   "cell_type": "code",
   "execution_count": 144,
   "id": "5909e92b-26ec-4977-bb91-fd34bf348560",
   "metadata": {},
   "outputs": [
    {
     "name": "stdout",
     "output_type": "stream",
     "text": [
      "[[1 2 3]\n",
      " [4 5 6]\n",
      " [7 8 9]\n",
      " [5 6 7]]\n",
      "[[ 1 23  3]\n",
      " [ 4  5  6]\n",
      " [ 7  8  9]\n",
      " [ 5  6  7]]\n"
     ]
    }
   ],
   "source": [
    "arr=np.array([[1,2,3],\n",
    "              [4,5,6],\n",
    "              [7,8,9],\n",
    "             [5,6,7]])\n",
    "x=arr.copy()\n",
    "arr[0,1]=23\n",
    "print(x)\n",
    "\n",
    "print(arr)"
   ]
  },
  {
   "cell_type": "code",
   "execution_count": 145,
   "id": "21887b10-1926-4200-a2be-d8f2f8c43bf7",
   "metadata": {},
   "outputs": [
    {
     "name": "stdout",
     "output_type": "stream",
     "text": [
      "[[[ 1  2  3]\n",
      "  [ 4  5  6]]\n",
      "\n",
      " [[ 7  8  9]\n",
      "  [10 11 12]]\n",
      "\n",
      " [[13 14 15]\n",
      "  [16 17 18]]]\n",
      "[[[ 1  2  3]\n",
      "  [ 4 23  6]]\n",
      "\n",
      " [[ 7  8  9]\n",
      "  [10 11 12]]\n",
      "\n",
      " [[13 14 15]\n",
      "  [16 17 18]]]\n"
     ]
    }
   ],
   "source": [
    "                 #0       #1\n",
    "arr=np.array([[[1,2,3],[4,5,6]],     #0\n",
    "              [[7,8,9],[10,11,12]],  #1\n",
    "              [[13,14,15],[16,17,18]]]) #2\n",
    "x=arr.copy()\n",
    "arr[0,1,1]=23\n",
    "print(x)\n",
    "\n",
    "print(arr)"
   ]
  },
  {
   "cell_type": "code",
   "execution_count": 146,
   "id": "f56f723d-a972-4eee-8565-6fc0f5706193",
   "metadata": {},
   "outputs": [
    {
     "name": "stdout",
     "output_type": "stream",
     "text": [
      "[[[ 1  2  3]\n",
      "  [ 4  5  6]]\n",
      "\n",
      " [[ 7  8  9]\n",
      "  [10 11 12]]\n",
      "\n",
      " [[13 14 15]\n",
      "  [16 17 18]]]\n",
      "[[[ 1  2  3]\n",
      "  [ 4  5  6]]\n",
      "\n",
      " [[ 7  8  9]\n",
      "  [10 11 12]]\n",
      "\n",
      " [[13 14 15]\n",
      "  [45 17 18]]]\n"
     ]
    }
   ],
   "source": [
    "                 #0       #1\n",
    "arr=np.array([[[1,2,3],[4,5,6]],     #0\n",
    "              [[7,8,9],[10,11,12]],  #1\n",
    "              [[13,14,15],[16,17,18]]]) #2\n",
    "x=arr.copy()\n",
    "arr[2,1,0]=45\n",
    "print(x)\n",
    "\n",
    "print(arr)"
   ]
  },
  {
   "cell_type": "code",
   "execution_count": 147,
   "id": "21c1a437-0c65-4418-9500-f809e53affe6",
   "metadata": {},
   "outputs": [
    {
     "name": "stdout",
     "output_type": "stream",
     "text": [
      "[[[[ 1  2  3]\n",
      "   [ 4  5  6]\n",
      "   [34 54 21]]\n",
      "\n",
      "  [[ 7  8  9]\n",
      "   [10 11 12]\n",
      "   [43 21 34]]\n",
      "\n",
      "  [[13 14 15]\n",
      "   [16 17 18]\n",
      "   [56 78  9]]]\n",
      "\n",
      "\n",
      " [[[ 1  2  3]\n",
      "   [ 4  5  6]\n",
      "   [34 54 21]]\n",
      "\n",
      "  [[ 7  8  9]\n",
      "   [10 11 12]\n",
      "   [43 21 34]]\n",
      "\n",
      "  [[13 14 15]\n",
      "   [16 17 18]\n",
      "   [56 78  9]]]]\n",
      "[[[[ 1  2  3]\n",
      "   [ 4  5  6]\n",
      "   [34 54 21]]\n",
      "\n",
      "  [[ 7  8  9]\n",
      "   [10 23 12]\n",
      "   [43 21 34]]\n",
      "\n",
      "  [[13 14 15]\n",
      "   [16 17 18]\n",
      "   [56 78  9]]]\n",
      "\n",
      "\n",
      " [[[ 1  2  3]\n",
      "   [ 4  5  6]\n",
      "   [34 54 21]]\n",
      "\n",
      "  [[ 7  8  9]\n",
      "   [10 11 12]\n",
      "   [43 21 34]]\n",
      "\n",
      "  [[13 14 15]\n",
      "   [16 17 18]\n",
      "   [56 78  9]]]]\n"
     ]
    }
   ],
   "source": [
    "                    #0          #1            #2\n",
    "arr = np.array([[[[1, 2, 3], [4, 5, 6], [34, 54, 21]],    #0\n",
    "                 [[7, 8, 9], [10, 11, 12], [43, 21, 34]],  #1\n",
    "                 [[13, 14, 15], [16, 17, 18], [56, 78, 9]]], #2\n",
    "                 \n",
    "                [[[1, 2, 3], [4, 5, 6], [34, 54, 21]],    #0\n",
    "                 [[7, 8, 9], [10, 11, 12], [43, 21, 34]],  #1\n",
    "                 [[13, 14, 15], [16, 17, 18], [56, 78, 9]]]]) #2\n",
    "x=arr.copy()\n",
    "arr[0,1,1,1]=23\n",
    "print(x)\n",
    "print(arr)"
   ]
  },
  {
   "cell_type": "code",
   "execution_count": 148,
   "id": "39f341e9-28a6-4235-b563-7d0bd118cd69",
   "metadata": {},
   "outputs": [
    {
     "name": "stdout",
     "output_type": "stream",
     "text": [
      "[[[[[ 1  2  3]\n",
      "    [ 4  5  6]\n",
      "    [34 54 21]]\n",
      "\n",
      "   [[ 7  8  9]\n",
      "    [10 11 12]\n",
      "    [43 21 34]]\n",
      "\n",
      "   [[13 14 15]\n",
      "    [16 17 18]\n",
      "    [56 78  9]]]]\n",
      "\n",
      "\n",
      "\n",
      " [[[[ 1  2  3]\n",
      "    [ 4  5  6]\n",
      "    [34 54 21]]\n",
      "\n",
      "   [[ 7  8  9]\n",
      "    [10 11 12]\n",
      "    [43 21 34]]\n",
      "\n",
      "   [[13 14 15]\n",
      "    [16 17 18]\n",
      "    [56 78  9]]]]]\n",
      "[[[[[ 1  2  3]\n",
      "    [ 4  5  6]\n",
      "    [34 54 21]]\n",
      "\n",
      "   [[ 7  8  9]\n",
      "    [10 11 12]\n",
      "    [43 21 34]]\n",
      "\n",
      "   [[13 14 15]\n",
      "    [16 17 18]\n",
      "    [56 78  9]]]]\n",
      "\n",
      "\n",
      "\n",
      " [[[[ 1  2  3]\n",
      "    [ 4  5  6]\n",
      "    [34 54 21]]\n",
      "\n",
      "   [[ 7 45  9]\n",
      "    [10 11 12]\n",
      "    [43 21 34]]\n",
      "\n",
      "   [[13 14 15]\n",
      "    [16 17 18]\n",
      "    [56 78  9]]]]]\n"
     ]
    }
   ],
   "source": [
    "arr = np.array([[[[[1, 2, 3], [4, 5, 6], [34, 54, 21]],    \n",
    "                 [[7, 8, 9], [10, 11, 12], [43, 21, 34]],\n",
    "                 [[13, 14, 15], [16, 17, 18], [56, 78, 9]]]], \n",
    "                 \n",
    "               [[[[1, 2, 3], [4, 5, 6], [34, 54, 21]],    \n",
    "                 [[7, 8, 9], [10, 11, 12], [43, 21, 34]],\n",
    "                 [[13, 14, 15], [16, 17, 18], [56, 78, 9]]]]])\n",
    "x=arr.copy()\n",
    "arr[1,0,1,0,1]=45\n",
    "print(x)\n",
    "print(arr)"
   ]
  },
  {
   "cell_type": "code",
   "execution_count": 149,
   "id": "defa9b1e-36fa-42f5-8792-7c536264aad2",
   "metadata": {},
   "outputs": [
    {
     "name": "stdout",
     "output_type": "stream",
     "text": [
      "[[[[[[ 1  2  3]\n",
      "     [ 4  5  6]\n",
      "     [34 54 21]]\n",
      "\n",
      "    [[ 7  8  9]\n",
      "     [10 11 12]\n",
      "     [43 21 34]]\n",
      "\n",
      "    [[13 14 15]\n",
      "     [16 17 18]\n",
      "     [56 78  9]]]]]]\n",
      "[[[[[[ 1  2  3]\n",
      "     [ 4  5  6]\n",
      "     [34 54 21]]\n",
      "\n",
      "    [[ 7  8 23]\n",
      "     [10 11 12]\n",
      "     [43 21 34]]\n",
      "\n",
      "    [[13 14 15]\n",
      "     [16 17 18]\n",
      "     [56 78  9]]]]]]\n"
     ]
    }
   ],
   "source": [
    "arr = np.array([[[[[[1, 2, 3], [4, 5, 6], [34, 54, 21]],    \n",
    "                 [[7, 8, 9], [10, 11, 12], [43, 21, 34]],\n",
    "                 [[13, 14, 15], [16, 17, 18], [56, 78, 9]]]]]])\n",
    "x=arr.copy()\n",
    "arr[0,0,0,1,0,2]=23\n",
    "print(x)\n",
    "\n",
    "print(arr)"
   ]
  },
  {
   "cell_type": "markdown",
   "id": "1338a4ef-dd58-4083-b3fa-b4de5a189252",
   "metadata": {},
   "source": [
    "# View method"
   ]
  },
  {
   "cell_type": "code",
   "execution_count": 151,
   "id": "6f3b1e01-c349-4b4b-bbbb-82dd26e0e628",
   "metadata": {},
   "outputs": [
    {
     "name": "stdout",
     "output_type": "stream",
     "text": [
      "[12 23  3  4 54]\n",
      "[12 23  3  4 54]\n"
     ]
    }
   ],
   "source": [
    "a=np.array([1,2,3,4,5])\n",
    "x=a.view()\n",
    "a[0]=12\n",
    "a[1]=23\n",
    "a[4]=54\n",
    "print(a)\n",
    "print(x)"
   ]
  },
  {
   "cell_type": "code",
   "execution_count": 152,
   "id": "e5c5b5e7-3d65-4371-b574-0546e144712d",
   "metadata": {},
   "outputs": [
    {
     "name": "stdout",
     "output_type": "stream",
     "text": [
      "[[ 1 23  3]\n",
      " [ 4  5  6]\n",
      " [ 7  8  9]\n",
      " [ 5  6  7]]\n",
      "[[ 1 23  3]\n",
      " [ 4  5  6]\n",
      " [ 7  8  9]\n",
      " [ 5  6  7]]\n"
     ]
    }
   ],
   "source": [
    "arr=np.array([[1,2,3],\n",
    "              [4,5,6],\n",
    "              [7,8,9],\n",
    "             [5,6,7]])\n",
    "x=arr.view()\n",
    "arr[0,1]=23\n",
    "print(x)\n",
    "\n",
    "print(arr)"
   ]
  },
  {
   "cell_type": "code",
   "execution_count": 153,
   "id": "5c883217-40db-493e-ad1f-a0a16522ba5e",
   "metadata": {},
   "outputs": [
    {
     "name": "stdout",
     "output_type": "stream",
     "text": [
      "[[[ 1  2  3]\n",
      "  [ 4 23  6]]\n",
      "\n",
      " [[ 7  8  9]\n",
      "  [10 11 12]]\n",
      "\n",
      " [[13 14 15]\n",
      "  [16 17 18]]]\n",
      "[[[ 1  2  3]\n",
      "  [ 4 23  6]]\n",
      "\n",
      " [[ 7  8  9]\n",
      "  [10 11 12]]\n",
      "\n",
      " [[13 14 15]\n",
      "  [16 17 18]]]\n"
     ]
    }
   ],
   "source": [
    "                 #0       #1\n",
    "arr=np.array([[[1,2,3],[4,5,6]],     #0\n",
    "              [[7,8,9],[10,11,12]],  #1\n",
    "              [[13,14,15],[16,17,18]]]) #2\n",
    "x=arr.view()\n",
    "arr[0,1,1]=23\n",
    "print(x)\n",
    "\n",
    "print(arr)"
   ]
  },
  {
   "cell_type": "code",
   "execution_count": 154,
   "id": "08ffb283-04af-4486-9fc5-4d3cfa62a402",
   "metadata": {},
   "outputs": [
    {
     "name": "stdout",
     "output_type": "stream",
     "text": [
      "[[[[ 1  2  3]\n",
      "   [ 4  5  6]\n",
      "   [34 54 21]]\n",
      "\n",
      "  [[ 7  8  9]\n",
      "   [10 23 12]\n",
      "   [43 21 34]]\n",
      "\n",
      "  [[13 14 15]\n",
      "   [16 17 18]\n",
      "   [56 78  9]]]\n",
      "\n",
      "\n",
      " [[[ 1  2  3]\n",
      "   [ 4  5  6]\n",
      "   [34 54 21]]\n",
      "\n",
      "  [[ 7  8  9]\n",
      "   [10 11 12]\n",
      "   [43 21 34]]\n",
      "\n",
      "  [[13 14 15]\n",
      "   [16 17 18]\n",
      "   [56 78  9]]]]\n",
      "[[[[ 1  2  3]\n",
      "   [ 4  5  6]\n",
      "   [34 54 21]]\n",
      "\n",
      "  [[ 7  8  9]\n",
      "   [10 23 12]\n",
      "   [43 21 34]]\n",
      "\n",
      "  [[13 14 15]\n",
      "   [16 17 18]\n",
      "   [56 78  9]]]\n",
      "\n",
      "\n",
      " [[[ 1  2  3]\n",
      "   [ 4  5  6]\n",
      "   [34 54 21]]\n",
      "\n",
      "  [[ 7  8  9]\n",
      "   [10 11 12]\n",
      "   [43 21 34]]\n",
      "\n",
      "  [[13 14 15]\n",
      "   [16 17 18]\n",
      "   [56 78  9]]]]\n"
     ]
    }
   ],
   "source": [
    "                    #0          #1            #2\n",
    "arr = np.array([[[[1, 2, 3], [4, 5, 6], [34, 54, 21]],    #0\n",
    "                 [[7, 8, 9], [10, 11, 12], [43, 21, 34]],  #1\n",
    "                 [[13, 14, 15], [16, 17, 18], [56, 78, 9]]], #2\n",
    "                 \n",
    "                [[[1, 2, 3], [4, 5, 6], [34, 54, 21]],    #0\n",
    "                 [[7, 8, 9], [10, 11, 12], [43, 21, 34]],  #1\n",
    "                 [[13, 14, 15], [16, 17, 18], [56, 78, 9]]]]) #2\n",
    "x=arr.view()\n",
    "arr[0,1,1,1]=23\n",
    "print(x)\n",
    "print(arr)"
   ]
  },
  {
   "cell_type": "code",
   "execution_count": 155,
   "id": "859c3f75-f011-45d4-a75b-29b8677fac7e",
   "metadata": {},
   "outputs": [
    {
     "name": "stdout",
     "output_type": "stream",
     "text": [
      "[[[[[ 1  2  3]\n",
      "    [ 4  5  6]\n",
      "    [34 54 21]]\n",
      "\n",
      "   [[ 7  8  9]\n",
      "    [10 11 12]\n",
      "    [43 21 34]]\n",
      "\n",
      "   [[13 14 15]\n",
      "    [16 17 18]\n",
      "    [56 78  9]]]]\n",
      "\n",
      "\n",
      "\n",
      " [[[[ 1  2  3]\n",
      "    [ 4  5  6]\n",
      "    [34 54 21]]\n",
      "\n",
      "   [[ 7 45  9]\n",
      "    [10 11 12]\n",
      "    [43 21 34]]\n",
      "\n",
      "   [[13 14 15]\n",
      "    [16 17 18]\n",
      "    [56 78  9]]]]]\n",
      "[[[[[ 1  2  3]\n",
      "    [ 4  5  6]\n",
      "    [34 54 21]]\n",
      "\n",
      "   [[ 7  8  9]\n",
      "    [10 11 12]\n",
      "    [43 21 34]]\n",
      "\n",
      "   [[13 14 15]\n",
      "    [16 17 18]\n",
      "    [56 78  9]]]]\n",
      "\n",
      "\n",
      "\n",
      " [[[[ 1  2  3]\n",
      "    [ 4  5  6]\n",
      "    [34 54 21]]\n",
      "\n",
      "   [[ 7 45  9]\n",
      "    [10 11 12]\n",
      "    [43 21 34]]\n",
      "\n",
      "   [[13 14 15]\n",
      "    [16 17 18]\n",
      "    [56 78  9]]]]]\n"
     ]
    }
   ],
   "source": [
    "arr = np.array([[[[[1, 2, 3], [4, 5, 6], [34, 54, 21]],    \n",
    "                 [[7, 8, 9], [10, 11, 12], [43, 21, 34]],\n",
    "                 [[13, 14, 15], [16, 17, 18], [56, 78, 9]]]], \n",
    "                 \n",
    "               [[[[1, 2, 3], [4, 5, 6], [34, 54, 21]],    \n",
    "                 [[7, 8, 9], [10, 11, 12], [43, 21, 34]],\n",
    "                 [[13, 14, 15], [16, 17, 18], [56, 78, 9]]]]])\n",
    "x=arr.view()\n",
    "arr[1,0,1,0,1]=45\n",
    "print(x)\n",
    "print(arr)"
   ]
  },
  {
   "cell_type": "code",
   "execution_count": 156,
   "id": "a1e8649a-62a8-4049-a910-470d37c175d5",
   "metadata": {},
   "outputs": [
    {
     "name": "stdout",
     "output_type": "stream",
     "text": [
      "[[[[[[ 1  2  3]\n",
      "     [ 4  5  6]\n",
      "     [34 54 21]]\n",
      "\n",
      "    [[ 7  8 23]\n",
      "     [10 11 12]\n",
      "     [43 21 34]]\n",
      "\n",
      "    [[13 14 15]\n",
      "     [16 17 18]\n",
      "     [56 78  9]]]]]]\n",
      "[[[[[[ 1  2  3]\n",
      "     [ 4  5  6]\n",
      "     [34 54 21]]\n",
      "\n",
      "    [[ 7  8 23]\n",
      "     [10 11 12]\n",
      "     [43 21 34]]\n",
      "\n",
      "    [[13 14 15]\n",
      "     [16 17 18]\n",
      "     [56 78  9]]]]]]\n"
     ]
    }
   ],
   "source": [
    "arr = np.array([[[[[[1, 2, 3], [4, 5, 6], [34, 54, 21]],    \n",
    "                 [[7, 8, 9], [10, 11, 12], [43, 21, 34]],\n",
    "                 [[13, 14, 15], [16, 17, 18], [56, 78, 9]]]]]])\n",
    "x=arr.view()\n",
    "arr[0,0,0,1,0,2]=23\n",
    "print(x)\n",
    "print(arr)"
   ]
  },
  {
   "cell_type": "markdown",
   "id": "8baf5861-86ca-4b52-b760-fd56e70506ab",
   "metadata": {},
   "source": [
    "# Reshaping arrays"
   ]
  },
  {
   "cell_type": "markdown",
   "id": "ebb0634b-f9c3-48b5-b18f-48a95a77701a",
   "metadata": {},
   "source": [
    "- changing the shape of an array\n",
    "- shape of the array: the number of elements in each dimension\n",
    "- By reshaping , we can add or remove the dimensions or change the numbers of elements in each dimension\n",
    "- we can use the multiples of the number of elements and change the shape\n",
    "- we will reshape() function "
   ]
  },
  {
   "cell_type": "code",
   "execution_count": 159,
   "id": "d2d5e56c-26ee-4fc8-9f38-a33d458668ec",
   "metadata": {},
   "outputs": [
    {
     "name": "stdout",
     "output_type": "stream",
     "text": [
      "1d: [1 2 3 4 5 6 7 8]\n",
      "2d: [[1 2 3 4]\n",
      " [5 6 7 8]]\n",
      "3d: [[[1 2]\n",
      "  [3 4]]\n",
      "\n",
      " [[5 6]\n",
      "  [7 8]]]\n",
      "4d: [[[[1 2]\n",
      "   [3 4]]\n",
      "\n",
      "  [[5 6]\n",
      "   [7 8]]]]\n",
      "5d: [[[[[1 2]\n",
      "    [3 4]]\n",
      "\n",
      "   [[5 6]\n",
      "    [7 8]]]]]\n",
      "6d: [[[[[[1 2]\n",
      "     [3 4]]\n",
      "\n",
      "    [[5 6]\n",
      "     [7 8]]]]]]\n"
     ]
    }
   ],
   "source": [
    "# convert 1D into 2D,3D,4D,5D,6D\n",
    "\n",
    "array_1d = np.array([1, 2, 3, 4, 5, 6, 7, 8])\n",
    "print(\"1d:\" ,array_1d)\n",
    "\n",
    "array_2d = array_1d.reshape(2, 4)\n",
    "print(\"2d:\" ,array_2d)\n",
    "\n",
    "\n",
    "array_3d = array_1d.reshape(2, 2, 2)\n",
    "print(\"3d:\" ,array_3d)\n",
    "\n",
    "\n",
    "array_4d = array_1d.reshape(1, 2, 2, 2)\n",
    "print(\"4d:\" ,array_4d)\n",
    "\n",
    "array_5d = array_1d.reshape(1, 1, 2, 2, 2)\n",
    "print(\"5d:\" ,array_5d)\n",
    "\n",
    "\n",
    "array_6d = array_1d.reshape(1, 1, 1, 2, 2, 2)\n",
    "print(\"6d:\" ,array_6d)"
   ]
  },
  {
   "cell_type": "code",
   "execution_count": 160,
   "id": "506b33db-2ef2-44d4-851d-715bb4478e56",
   "metadata": {},
   "outputs": [
    {
     "name": "stdout",
     "output_type": "stream",
     "text": [
      "2D Array: [[1 2 3 4]\n",
      " [5 6 7 8]]\n",
      "\n",
      "3D Array: [[[1 2 3 4]\n",
      "  [5 6 7 8]]]\n",
      "\n",
      "4D Array: [[[[1 2 3 4]\n",
      "   [5 6 7 8]]]]\n",
      "\n",
      "5D Array: [[[[[1 2 3 4]\n",
      "    [5 6 7 8]]]]]\n",
      "\n",
      "6D Array: [[[[[[1 2 3 4]\n",
      "     [5 6 7 8]]]]]]\n"
     ]
    }
   ],
   "source": [
    "#convert 2D into 3D,4D,5D,6D\n",
    "\n",
    "array_2d = np.array([[1, 2, 3, 4], [5, 6, 7, 8]])\n",
    "print(\"2D Array:\", array_2d)\n",
    "\n",
    "array_3d = array_2d.reshape(1, 2, 4)\n",
    "print(\"\\n3D Array:\", array_3d)\n",
    "\n",
    "array_4d = array_2d.reshape(1, 1, 2, 4)\n",
    "print(\"\\n4D Array:\", array_4d)\n",
    "\n",
    "\n",
    "array_5d = array_2d.reshape(1, 1, 1, 2, 4)\n",
    "print(\"\\n5D Array:\", array_5d)\n",
    "\n",
    "array_6d = array_2d.reshape(1, 1, 1, 1, 2, 4)\n",
    "print(\"\\n6D Array:\", array_6d)"
   ]
  },
  {
   "cell_type": "code",
   "execution_count": 161,
   "id": "98c51622-c841-4ed6-8d5e-c673ca632e9c",
   "metadata": {},
   "outputs": [
    {
     "name": "stdout",
     "output_type": "stream",
     "text": [
      "3D Array: [[[1 2]\n",
      "  [3 4]]\n",
      "\n",
      " [[5 6]\n",
      "  [7 8]]]\n",
      "2D Array: [[1 2]\n",
      " [3 4]\n",
      " [5 6]\n",
      " [7 8]]\n",
      "4D Array: [[[[1 2]\n",
      "   [3 4]]\n",
      "\n",
      "  [[5 6]\n",
      "   [7 8]]]]\n",
      "5D Array: [[[[[1 2]\n",
      "    [3 4]]\n",
      "\n",
      "   [[5 6]\n",
      "    [7 8]]]]]\n",
      "6D Array: [[[[[[1 2]\n",
      "     [3 4]]\n",
      "\n",
      "    [[5 6]\n",
      "     [7 8]]]]]]\n"
     ]
    }
   ],
   "source": [
    "#convert 3D into 2D,4D,5D,6D\n",
    "\n",
    "array_3d = np.array([[[1, 2], [3, 4]], [[5, 6], [7, 8]]])\n",
    "print(\"3D Array:\", array_3d)\n",
    "\n",
    "array_2d = array_3d.reshape(4, 2)\n",
    "print(\"2D Array:\", array_2d)\n",
    "\n",
    "array_4d = array_3d.reshape(1, 2, 2, 2)\n",
    "print(\"4D Array:\", array_4d)\n",
    "\n",
    "array_5d = array_3d.reshape(1, 1, 2, 2, 2)\n",
    "print(\"5D Array:\", array_5d)\n",
    "\n",
    "array_6d = array_3d.reshape(1, 1, 1, 2, 2, 2)\n",
    "print(\"6D Array:\", array_6d)"
   ]
  },
  {
   "cell_type": "code",
   "execution_count": 510,
   "id": "ac9dc862-5acb-40c7-9c87-48f798684d8c",
   "metadata": {},
   "outputs": [
    {
     "name": "stdout",
     "output_type": "stream",
     "text": [
      "4D Array: [[[[ 1  2  3]\n",
      "   [ 4  5  6]]\n",
      "\n",
      "  [[ 7  8  9]\n",
      "   [10 11 12]]]]\n",
      "2D Array: [[ 1  2]\n",
      " [ 3  4]\n",
      " [ 5  6]\n",
      " [ 7  8]\n",
      " [ 9 10]\n",
      " [11 12]]\n",
      "3D Array: [[[ 1  2]\n",
      "  [ 3  4]\n",
      "  [ 5  6]]\n",
      "\n",
      " [[ 7  8]\n",
      "  [ 9 10]\n",
      "  [11 12]]]\n",
      "5D Array: [[[[[ 1  2]\n",
      "    [ 3  4]\n",
      "    [ 5  6]]\n",
      "\n",
      "   [[ 7  8]\n",
      "    [ 9 10]\n",
      "    [11 12]]]]]\n",
      "6D Array: [[[[[[ 1  2]\n",
      "     [ 3  4]\n",
      "     [ 5  6]]\n",
      "\n",
      "    [[ 7  8]\n",
      "     [ 9 10]\n",
      "     [11 12]]]]]]\n"
     ]
    }
   ],
   "source": [
    "#convert 4D into 2D,3D,5D,6D\n",
    "\n",
    "array_4d = np.array([[[[1, 2, 3], [4, 5, 6]], [[7, 8, 9], [10, 11, 12]]]])\n",
    "print(\"4D Array:\", array_4d)\n",
    "\n",
    "\n",
    "array_2d = array_4d.reshape(6, 2) \n",
    "print(\"2D Array:\", array_2d)\n",
    "\n",
    "array_3d = array_4d.reshape(2, 3, 2)  \n",
    "print(\"3D Array:\", array_3d)\n",
    "\n",
    "array_5d = array_4d.reshape(1, 1, 2, 3, 2)  \n",
    "print(\"5D Array:\", array_5d)\n",
    "\n",
    "array_6d = array_4d.reshape(1, 1, 1, 2, 3, 2)  \n",
    "print(\"6D Array:\", array_6d)"
   ]
  },
  {
   "cell_type": "code",
   "execution_count": 512,
   "id": "ce77e5cf-1ccc-4515-b67c-712b804b30b1",
   "metadata": {},
   "outputs": [
    {
     "name": "stdout",
     "output_type": "stream",
     "text": [
      "5D Array: [[[[[ 1  2  3]\n",
      "    [ 4  5  6]\n",
      "    [34 54 21]]\n",
      "\n",
      "   [[ 7  8  9]\n",
      "    [10 11 12]\n",
      "    [43 21 34]]\n",
      "\n",
      "   [[13 14 15]\n",
      "    [16 17 18]\n",
      "    [56 78  9]]]]]\n",
      "\n",
      "2D Array: [[ 1  2  3]\n",
      " [ 4  5  6]\n",
      " [34 54 21]\n",
      " [ 7  8  9]\n",
      " [10 11 12]\n",
      " [43 21 34]\n",
      " [13 14 15]\n",
      " [16 17 18]\n",
      " [56 78  9]]\n",
      "\n",
      "3D Array: [[[ 1  2  3]\n",
      "  [ 4  5  6]\n",
      "  [34 54 21]]\n",
      "\n",
      " [[ 7  8  9]\n",
      "  [10 11 12]\n",
      "  [43 21 34]]\n",
      "\n",
      " [[13 14 15]\n",
      "  [16 17 18]\n",
      "  [56 78  9]]]\n",
      "\n",
      "4D Array: [[[[ 1  2  3]\n",
      "   [ 4  5  6]\n",
      "   [34 54 21]]\n",
      "\n",
      "  [[ 7  8  9]\n",
      "   [10 11 12]\n",
      "   [43 21 34]]\n",
      "\n",
      "  [[13 14 15]\n",
      "   [16 17 18]\n",
      "   [56 78  9]]]]\n",
      "\n",
      "6D Array: [[[[[[ 1  2  3]\n",
      "     [ 4  5  6]\n",
      "     [34 54 21]]\n",
      "\n",
      "    [[ 7  8  9]\n",
      "     [10 11 12]\n",
      "     [43 21 34]]\n",
      "\n",
      "    [[13 14 15]\n",
      "     [16 17 18]\n",
      "     [56 78  9]]]]]]\n"
     ]
    }
   ],
   "source": [
    "# #convert 5D into 2D,3D,4D,6D\n",
    "\n",
    "arr = np.array([[[[[1, 2, 3], [4, 5, 6], [34, 54, 21]],    \n",
    "                  [[7, 8, 9], [10, 11, 12], [43, 21, 34]],\n",
    "                  [[13, 14, 15], [16, 17, 18], [56, 78, 9]]]]])\n",
    "\n",
    "print(\"5D Array:\", arr)\n",
    "\n",
    "arr_2d = arr.reshape(9, 3) \n",
    "print(\"\\n2D Array:\", arr_2d)\n",
    "\n",
    "arr_3d = arr.reshape(3, 3, 3)  \n",
    "print(\"\\n3D Array:\", arr_3d)\n",
    "\n",
    "\n",
    "arr_4d = arr.reshape(1, 3, 3, 3) \n",
    "print(\"\\n4D Array:\", arr_4d)\n",
    "\n",
    "arr_6d = arr.reshape(1, 1, 1, 3, 3 ,3) \n",
    "print(\"\\n6D Array:\", arr_6d)\n"
   ]
  },
  {
   "cell_type": "code",
   "execution_count": 164,
   "id": "1f5fe324-fe83-4685-9b77-e7985b6bc850",
   "metadata": {},
   "outputs": [
    {
     "name": "stdout",
     "output_type": "stream",
     "text": [
      "6D Array: [[[[[[ 1  2  3]\n",
      "     [ 4  5  6]\n",
      "     [34 54 21]]\n",
      "\n",
      "    [[ 7  8  9]\n",
      "     [10 11 12]\n",
      "     [43 21 34]]\n",
      "\n",
      "    [[13 14 15]\n",
      "     [16 17 18]\n",
      "     [56 78  9]]]]]]\n",
      "2D Array: [[ 1  2  3]\n",
      " [ 4  5  6]\n",
      " [34 54 21]\n",
      " [ 7  8  9]\n",
      " [10 11 12]\n",
      " [43 21 34]\n",
      " [13 14 15]\n",
      " [16 17 18]\n",
      " [56 78  9]]\n",
      "3D Array: [[[ 1  2  3]\n",
      "  [ 4  5  6]\n",
      "  [34 54 21]]\n",
      "\n",
      " [[ 7  8  9]\n",
      "  [10 11 12]\n",
      "  [43 21 34]]\n",
      "\n",
      " [[13 14 15]\n",
      "  [16 17 18]\n",
      "  [56 78  9]]]\n",
      "4D Array: [[[[ 1  2  3]\n",
      "   [ 4  5  6]\n",
      "   [34 54 21]]]\n",
      "\n",
      "\n",
      " [[[ 7  8  9]\n",
      "   [10 11 12]\n",
      "   [43 21 34]]]\n",
      "\n",
      "\n",
      " [[[13 14 15]\n",
      "   [16 17 18]\n",
      "   [56 78  9]]]]\n",
      "5D Array: [[[[[ 1  2  3]\n",
      "    [ 4  5  6]\n",
      "    [34 54 21]]\n",
      "\n",
      "   [[ 7  8  9]\n",
      "    [10 11 12]\n",
      "    [43 21 34]]\n",
      "\n",
      "   [[13 14 15]\n",
      "    [16 17 18]\n",
      "    [56 78  9]]]]]\n"
     ]
    }
   ],
   "source": [
    "# #convert 6D into 2D,3D,4D,5D\n",
    "\n",
    "arr_6d = np.array([[[[[[1, 2, 3], [4, 5, 6], [34, 54, 21]],    \n",
    "                      [[7, 8, 9], [10, 11, 12], [43, 21, 34]],\n",
    "                      [[13, 14, 15], [16, 17, 18], [56, 78, 9]]]]]])\n",
    "\n",
    "print(\"6D Array:\", arr_6d)\n",
    "\n",
    "arr_2d = arr_6d.reshape(9, 3)  \n",
    "print(\"2D Array:\", arr_2d)\n",
    "\n",
    "arr_3d = arr_6d.reshape(3, 3, 3) \n",
    "print(\"3D Array:\", arr_3d)\n",
    "\n",
    "arr_4d = arr_6d.reshape(3, 1, 3, 3) \n",
    "print(\"4D Array:\", arr_4d)\n",
    "\n",
    "arr_5d = arr_6d.reshape(1, 1, 3, 3, 3) \n",
    "print(\"5D Array:\", arr_5d)\n"
   ]
  },
  {
   "cell_type": "markdown",
   "id": "77d71d87-b7a4-4675-8d42-e86048443a5c",
   "metadata": {},
   "source": [
    "# Arithmrtic operations"
   ]
  },
  {
   "cell_type": "code",
   "execution_count": 166,
   "id": "56b61dfc-0d4a-46e0-945f-7478c7a8ca4a",
   "metadata": {},
   "outputs": [],
   "source": [
    "x = np.array([[1, 2], [3, 4]])\n",
    "y = np.array([[6, 7], [9, 10]])"
   ]
  },
  {
   "cell_type": "code",
   "execution_count": 167,
   "id": "61a5f433-763d-4dc0-80aa-43bcd712dd57",
   "metadata": {},
   "outputs": [
    {
     "name": "stdout",
     "output_type": "stream",
     "text": [
      "[[ 7  9]\n",
      " [12 14]]\n"
     ]
    }
   ],
   "source": [
    "print(np.add(x,y))"
   ]
  },
  {
   "cell_type": "code",
   "execution_count": 168,
   "id": "11768c8e-fbee-4c65-95c1-f114b766f22d",
   "metadata": {},
   "outputs": [
    {
     "name": "stdout",
     "output_type": "stream",
     "text": [
      "[[-5 -5]\n",
      " [-6 -6]]\n"
     ]
    }
   ],
   "source": [
    "print(np.subtract(x,y))"
   ]
  },
  {
   "cell_type": "code",
   "execution_count": 169,
   "id": "790a0f49-3b1e-42dc-8cce-42271cde4787",
   "metadata": {},
   "outputs": [
    {
     "name": "stdout",
     "output_type": "stream",
     "text": [
      "[[ 6 14]\n",
      " [27 40]]\n"
     ]
    }
   ],
   "source": [
    "print(np.multiply(x,y))"
   ]
  },
  {
   "cell_type": "code",
   "execution_count": 170,
   "id": "482d0140-8c54-46bb-98cf-927727889e70",
   "metadata": {},
   "outputs": [
    {
     "name": "stdout",
     "output_type": "stream",
     "text": [
      "[[0.16666667 0.28571429]\n",
      " [0.33333333 0.4       ]]\n"
     ]
    }
   ],
   "source": [
    "print(np.divide(x,y))"
   ]
  },
  {
   "cell_type": "code",
   "execution_count": 171,
   "id": "256918e7-045a-43b1-af1f-b80d41153b60",
   "metadata": {},
   "outputs": [],
   "source": [
    "x = np.array([[[12,32], [31, 14]]])\n",
    "y = np.array([[[16,17], [9, 10]]])"
   ]
  },
  {
   "cell_type": "code",
   "execution_count": 172,
   "id": "a8dd1cd1-b674-4b34-ba3e-02e2aa602110",
   "metadata": {},
   "outputs": [
    {
     "name": "stdout",
     "output_type": "stream",
     "text": [
      "[[[28 49]\n",
      "  [40 24]]]\n"
     ]
    }
   ],
   "source": [
    "print(x+y)"
   ]
  },
  {
   "cell_type": "code",
   "execution_count": 173,
   "id": "628a4e6a-1258-460f-b219-d2bb44d5f7a6",
   "metadata": {},
   "outputs": [
    {
     "name": "stdout",
     "output_type": "stream",
     "text": [
      "[[[-4 15]\n",
      "  [22  4]]]\n"
     ]
    }
   ],
   "source": [
    "print(x-y)"
   ]
  },
  {
   "cell_type": "code",
   "execution_count": 174,
   "id": "3f3fa40d-ecdf-4a6b-b36b-332387547b7c",
   "metadata": {},
   "outputs": [
    {
     "name": "stdout",
     "output_type": "stream",
     "text": [
      "[[[192 544]\n",
      "  [279 140]]]\n"
     ]
    }
   ],
   "source": [
    "print(x*y)"
   ]
  },
  {
   "cell_type": "code",
   "execution_count": 175,
   "id": "ded0b659-b94b-41e3-8f2e-48bc70869aa1",
   "metadata": {},
   "outputs": [
    {
     "name": "stdout",
     "output_type": "stream",
     "text": [
      "[[[0.75       1.88235294]\n",
      "  [3.44444444 1.4       ]]]\n"
     ]
    }
   ],
   "source": [
    "print(x/y)"
   ]
  },
  {
   "cell_type": "markdown",
   "id": "a2ccc91b-d6b7-43f6-a009-8c541765839f",
   "metadata": {},
   "source": [
    "# Sorting Array"
   ]
  },
  {
   "cell_type": "markdown",
   "id": "0ee1144e-878c-4d5f-9e97-b8fb630409d2",
   "metadata": {},
   "source": [
    "- putting array in an ordered sequence\n",
    "- we use function sort()"
   ]
  },
  {
   "cell_type": "code",
   "execution_count": 339,
   "id": "70cccfcf-024b-4540-a715-61dc59c1f5f3",
   "metadata": {},
   "outputs": [
    {
     "name": "stdout",
     "output_type": "stream",
     "text": [
      "[[12 14 31 32]]\n"
     ]
    }
   ],
   "source": [
    "x = np.array([[12,32,31, 14]])\n",
    "print(np.sort(x))"
   ]
  },
  {
   "cell_type": "code",
   "execution_count": 331,
   "id": "698832ae-a197-4378-9631-289d308b699e",
   "metadata": {},
   "outputs": [
    {
     "name": "stdout",
     "output_type": "stream",
     "text": [
      "[ 2  3  4 32 43]\n"
     ]
    }
   ],
   "source": [
    "a=np.array([2,3,4,43,32])\n",
    "print(np.sort(a))"
   ]
  },
  {
   "cell_type": "code",
   "execution_count": 333,
   "id": "8a7440d1-8d33-4737-b1df-bf6d0e879fc8",
   "metadata": {},
   "outputs": [
    {
     "name": "stdout",
     "output_type": "stream",
     "text": [
      "[[ 2  3  4 32 43]]\n"
     ]
    }
   ],
   "source": [
    "a=np.array([[2,3,4,43,32]])\n",
    "print(np.sort(a))"
   ]
  },
  {
   "cell_type": "code",
   "execution_count": 337,
   "id": "79a598eb-588e-4517-a38c-c72855afb69f",
   "metadata": {},
   "outputs": [
    {
     "name": "stdout",
     "output_type": "stream",
     "text": [
      "[[[ 2  3  4 32 41 43]]]\n"
     ]
    }
   ],
   "source": [
    "a=np.array([[[2,3,4,43,32,41]]])\n",
    "print(np.sort(a))"
   ]
  },
  {
   "cell_type": "markdown",
   "id": "eaaf9210-d210-428c-99b7-79eef1c49b9d",
   "metadata": {},
   "source": [
    "# Slicing array:"
   ]
  },
  {
   "cell_type": "markdown",
   "id": "4cd40333-0605-4f1f-9740-1f6a186d9b32",
   "metadata": {},
   "source": [
    "- taking the elements from one index to another\n",
    "- we can use[start:end]\n",
    "- to define step[start:end:step]\n",
    "- if we dont start pass it will consider as 0\n",
    "- if we didnt end it consider length of array\n",
    "- if we didnt pass step, it will consider a 1"
   ]
  },
  {
   "cell_type": "code",
   "execution_count": 343,
   "id": "444fb42d-a3ae-40a6-b9c6-f2ea78bc5418",
   "metadata": {},
   "outputs": [
    {
     "name": "stdout",
     "output_type": "stream",
     "text": [
      "[20 30 40 50]\n"
     ]
    }
   ],
   "source": [
    "arr = np.array([10, 20, 30, 40, 50, 60, 70])\n",
    "print(arr[1:5])"
   ]
  },
  {
   "cell_type": "code",
   "execution_count": 345,
   "id": "6a1e729e-ac51-4b55-a3ff-faf5040cace0",
   "metadata": {},
   "outputs": [
    {
     "name": "stdout",
     "output_type": "stream",
     "text": [
      "[20 30 40 50 60 70]\n"
     ]
    }
   ],
   "source": [
    "arr = np.array([10, 20, 30, 40, 50, 60, 70])\n",
    "print(arr[1:])"
   ]
  },
  {
   "cell_type": "code",
   "execution_count": 347,
   "id": "191e2f32-b222-4969-88e0-11fbed052791",
   "metadata": {},
   "outputs": [
    {
     "name": "stdout",
     "output_type": "stream",
     "text": [
      "[10 20 30 40 50 60]\n"
     ]
    }
   ],
   "source": [
    "arr = np.array([10, 20, 30, 40, 50, 60, 70])\n",
    "print(arr[:6])"
   ]
  },
  {
   "cell_type": "code",
   "execution_count": 353,
   "id": "ef27f830-4bed-4f46-98e6-0925f2d7f297",
   "metadata": {},
   "outputs": [
    {
     "name": "stdout",
     "output_type": "stream",
     "text": [
      "[[1 2]]\n"
     ]
    }
   ],
   "source": [
    "# slicing for 2D\n",
    "\n",
    "arr = np.array([[1, 2, 3], [4, 5, 6], \n",
    "                [7, 8, 9],[10,11,12]])\n",
    "print(arr[0:1,0:2])"
   ]
  },
  {
   "cell_type": "code",
   "execution_count": 421,
   "id": "b27ca25b-0c17-4b99-9ff3-660547653919",
   "metadata": {},
   "outputs": [
    {
     "name": "stdout",
     "output_type": "stream",
     "text": [
      "[[1 2 3]\n",
      " [4 5 6]\n",
      " [7 8 9]]\n"
     ]
    }
   ],
   "source": [
    "arr = np.array([[1, 2, 3], [4, 5, 6], \n",
    "                [7, 8, 9],[10,11,12],\n",
    "               [13,14,15],[16,17,19]])\n",
    "print(arr[0:3])"
   ]
  },
  {
   "cell_type": "code",
   "execution_count": 437,
   "id": "2bfc5cba-facd-4218-a7c5-cb402f8a6242",
   "metadata": {},
   "outputs": [
    {
     "name": "stdout",
     "output_type": "stream",
     "text": [
      "[[ 4  5  6]\n",
      " [ 7  8  9]\n",
      " [10 11 12]\n",
      " [13 14 15]\n",
      " [16 17 19]]\n"
     ]
    }
   ],
   "source": [
    "arr = np.array([[1, 2, 3], [4, 5, 6], \n",
    "                [7, 8, 9],[10,11,12],\n",
    "               [13,14,15],[16,17,19]])\n",
    "print(arr[1:])"
   ]
  },
  {
   "cell_type": "code",
   "execution_count": 453,
   "id": "36c61299-8c62-45c2-8ccf-f8ea54e67f14",
   "metadata": {},
   "outputs": [
    {
     "name": "stdout",
     "output_type": "stream",
     "text": [
      "[[ 1  2  3]\n",
      " [ 4  5  6]\n",
      " [ 7  8  9]\n",
      " [10 11 12]]\n"
     ]
    }
   ],
   "source": [
    "arr = np.array([[1, 2, 3], [4, 5, 6], \n",
    "                [7, 8, 9],[10,11,12],\n",
    "               [13,14,15],[16,17,19]])\n",
    "print(arr[:4])"
   ]
  },
  {
   "cell_type": "markdown",
   "id": "9d4b35af-b7e5-4db6-b816-8e29769ece8d",
   "metadata": {},
   "source": [
    "# Negative slicing"
   ]
  },
  {
   "cell_type": "code",
   "execution_count": 456,
   "id": "0e35c15b-fd3f-461c-8cf0-6b53e77f874a",
   "metadata": {},
   "outputs": [
    {
     "name": "stdout",
     "output_type": "stream",
     "text": [
      "70\n"
     ]
    }
   ],
   "source": [
    "arr = np.array([10, 20, 30, 40, 50, 60, 70])\n",
    "print(arr[-1])"
   ]
  },
  {
   "cell_type": "code",
   "execution_count": 460,
   "id": "6c2ef785-6919-45f5-aac4-9fb5db008b3b",
   "metadata": {},
   "outputs": [
    {
     "name": "stdout",
     "output_type": "stream",
     "text": [
      "[40 50 60 70]\n"
     ]
    }
   ],
   "source": [
    "arr = np.array([10, 20, 30, 40, 50, 60, 70])\n",
    "print(arr[-4:])"
   ]
  },
  {
   "cell_type": "code",
   "execution_count": 462,
   "id": "29d3f462-7e76-4391-bb60-0e2842acf815",
   "metadata": {},
   "outputs": [
    {
     "name": "stdout",
     "output_type": "stream",
     "text": [
      "[40 50 60]\n"
     ]
    }
   ],
   "source": [
    "arr = np.array([10, 20, 30, 40, 50, 60, 70])\n",
    "print(arr[-4:-1])"
   ]
  },
  {
   "cell_type": "code",
   "execution_count": 468,
   "id": "b095a777-17aa-4c83-8ced-194739e85b23",
   "metadata": {},
   "outputs": [
    {
     "name": "stdout",
     "output_type": "stream",
     "text": [
      "[10 20 30 40 50 60]\n"
     ]
    }
   ],
   "source": [
    "arr = np.array([10, 20, 30, 40, 50, 60, 70])\n",
    "print(arr[:-1])"
   ]
  },
  {
   "cell_type": "code",
   "execution_count": 478,
   "id": "db32cbfe-5c67-42da-b330-87b38a2c747b",
   "metadata": {},
   "outputs": [
    {
     "name": "stdout",
     "output_type": "stream",
     "text": [
      "[[10 11 12]\n",
      " [13 14 15]]\n"
     ]
    }
   ],
   "source": [
    "arr = np.array([[1, 2, 3], [4, 5, 6], \n",
    "                [7, 8, 9],[10,11,12],\n",
    "               [13,14,15],[16,17,19]])\n",
    "print(arr[-3:-1])"
   ]
  },
  {
   "cell_type": "code",
   "execution_count": 492,
   "id": "7b0a315a-9e3a-4b79-aa6b-2f06f53b3070",
   "metadata": {},
   "outputs": [
    {
     "name": "stdout",
     "output_type": "stream",
     "text": [
      "[[16 17 19]]\n"
     ]
    }
   ],
   "source": [
    "print(arr[-1:, -3:])"
   ]
  },
  {
   "cell_type": "code",
   "execution_count": 506,
   "id": "12ef6d30-2c0d-43c9-a259-1ad33aa8dc0f",
   "metadata": {},
   "outputs": [
    {
     "name": "stdout",
     "output_type": "stream",
     "text": [
      "[[ 2  3]\n",
      " [ 5  6]\n",
      " [ 8  9]\n",
      " [11 12]\n",
      " [14 15]\n",
      " [17 19]]\n"
     ]
    }
   ],
   "source": [
    "arr = np.array([[1, 2, 3], [4, 5, 6], \n",
    "                [7, 8, 9],[10,11,12],\n",
    "               [13,14,15],[16,17,19]])\n",
    "print(arr[:, -2:])"
   ]
  },
  {
   "cell_type": "code",
   "execution_count": null,
   "id": "7069a965-f7ac-4348-ba38-ddcec6b69cf1",
   "metadata": {},
   "outputs": [],
   "source": []
  }
 ],
 "metadata": {
  "kernelspec": {
   "display_name": "Python 3 (ipykernel)",
   "language": "python",
   "name": "python3"
  },
  "language_info": {
   "codemirror_mode": {
    "name": "ipython",
    "version": 3
   },
   "file_extension": ".py",
   "mimetype": "text/x-python",
   "name": "python",
   "nbconvert_exporter": "python",
   "pygments_lexer": "ipython3",
   "version": "3.12.4"
  }
 },
 "nbformat": 4,
 "nbformat_minor": 5
}
